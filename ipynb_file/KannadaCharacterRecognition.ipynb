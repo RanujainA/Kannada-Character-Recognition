{
  "cells": [
    {
      "cell_type": "markdown",
      "metadata": {},
      "source": [
        "## Importing Dataset"
      ]
    },
    {
      "cell_type": "code",
      "execution_count": 1,
      "metadata": {},
      "outputs": [
        {
          "data": {
            "text/html": [
              "<div>\n",
              "<style scoped>\n",
              "    .dataframe tbody tr th:only-of-type {\n",
              "        vertical-align: middle;\n",
              "    }\n",
              "\n",
              "    .dataframe tbody tr th {\n",
              "        vertical-align: top;\n",
              "    }\n",
              "\n",
              "    .dataframe thead th {\n",
              "        text-align: right;\n",
              "    }\n",
              "</style>\n",
              "<table border=\"1\" class=\"dataframe\">\n",
              "  <thead>\n",
              "    <tr style=\"text-align: right;\">\n",
              "      <th></th>\n",
              "      <th>img</th>\n",
              "      <th>class</th>\n",
              "    </tr>\n",
              "  </thead>\n",
              "  <tbody>\n",
              "    <tr>\n",
              "      <th>0</th>\n",
              "      <td>Img/img001-001.png</td>\n",
              "      <td>1</td>\n",
              "    </tr>\n",
              "    <tr>\n",
              "      <th>1</th>\n",
              "      <td>Img/img001-002.png</td>\n",
              "      <td>1</td>\n",
              "    </tr>\n",
              "  </tbody>\n",
              "</table>\n",
              "</div>"
            ],
            "text/plain": [
              "                  img  class\n",
              "0  Img/img001-001.png      1\n",
              "1  Img/img001-002.png      1"
            ]
          },
          "execution_count": 1,
          "metadata": {},
          "output_type": "execute_result"
        }
      ],
      "source": [
        "import pandas as pd\n",
        "df = pd.read_csv('archive/kannada.csv')\n",
        "df.head(2)"
      ]
    },
    {
      "cell_type": "code",
      "execution_count": 2,
      "metadata": {},
      "outputs": [],
      "source": [
        "# Changing class range from 0 to 656.\n",
        "df['class'] = df['class'] - 1 "
      ]
    },
    {
      "cell_type": "code",
      "execution_count": 3,
      "metadata": {
        "colab": {
          "base_uri": "https://localhost:8080/"
        },
        "id": "PN0zMlOVbtY0",
        "outputId": "42a79bbb-50a4-438f-b46b-7b07386f4875"
      },
      "outputs": [
        {
          "data": {
            "text/plain": [
              "(16425, 2)"
            ]
          },
          "execution_count": 3,
          "metadata": {},
          "output_type": "execute_result"
        }
      ],
      "source": [
        "# Dataset Size\n",
        "df.shape"
      ]
    },
    {
      "cell_type": "code",
      "execution_count": 4,
      "metadata": {
        "colab": {
          "base_uri": "https://localhost:8080/"
        },
        "id": "TRoJtvJEc_kI",
        "outputId": "0f2ea903-3df6-4cd6-9b89-eec8b0797b04"
      },
      "outputs": [
        {
          "data": {
            "text/plain": [
              "657"
            ]
          },
          "execution_count": 4,
          "metadata": {},
          "output_type": "execute_result"
        }
      ],
      "source": [
        "# Total Numbers of Output Classes\n",
        "len(df['class'].unique())"
      ]
    },
    {
      "cell_type": "code",
      "execution_count": 5,
      "metadata": {
        "colab": {
          "base_uri": "https://localhost:8080/",
          "height": 489
        },
        "id": "FAghQSfhdC3X",
        "outputId": "f6390d14-420c-4486-a0e1-cf841676fb6f"
      },
      "outputs": [
        {
          "data": {
            "text/plain": [
              "class\n",
              "656    25\n",
              "640    25\n",
              "639    25\n",
              "638    25\n",
              "637    25\n",
              "       ..\n",
              "5      25\n",
              "4      25\n",
              "3      25\n",
              "2      25\n",
              "1      25\n",
              "Name: count, Length: 657, dtype: int64"
            ]
          },
          "execution_count": 5,
          "metadata": {},
          "output_type": "execute_result"
        }
      ],
      "source": [
        "# Total Number of Images Per Class\n",
        "df['class'].value_counts()"
      ]
    },
    {
      "cell_type": "markdown",
      "metadata": {},
      "source": [
        "## Image Preprocessing"
      ]
    },
    {
      "cell_type": "code",
      "execution_count": 6,
      "metadata": {
        "colab": {
          "background_save": true
        },
        "id": "T3AfxlPBgzpM"
      },
      "outputs": [],
      "source": [
        "import numpy as np\n",
        "import cv2\n",
        "import os\n",
        "def load_and_preprocess_images(image_paths):\n",
        "    \"\"\"This Function is used to preprocess the image such as grayscale convertion, resizing, normalization etc.\"\"\"\n",
        "    images = []\n",
        "    img_dir = 'archive/'\n",
        "    img_size=(64, 64)\n",
        "    for img_path in image_paths:\n",
        "        full_path = os.path.join(img_dir, img_path)\n",
        "        img = cv2.imread(full_path, cv2.IMREAD_GRAYSCALE)\n",
        "        img = cv2.resize(img, img_size)\n",
        "        img = img / 255.0\n",
        "        images.append(img)\n",
        "    return np.array(images)\n",
        "image_paths = df[\"img\"].values\n",
        "labels = df[\"class\"].values\n",
        "X = load_and_preprocess_images(image_paths)"
      ]
    },
    {
      "cell_type": "code",
      "execution_count": 7,
      "metadata": {
        "colab": {
          "base_uri": "https://localhost:8080/"
        },
        "id": "mx-HtTc7kxG1",
        "outputId": "e7a1c53f-ad71-4c0d-9862-8841f8106f08"
      },
      "outputs": [
        {
          "data": {
            "text/plain": [
              "array([[[1., 1., 1., ..., 1., 1., 1.],\n",
              "        [1., 1., 1., ..., 1., 1., 1.],\n",
              "        [1., 1., 1., ..., 1., 1., 1.],\n",
              "        ...,\n",
              "        [1., 1., 1., ..., 1., 1., 1.],\n",
              "        [1., 1., 1., ..., 1., 1., 1.],\n",
              "        [1., 1., 1., ..., 1., 1., 1.]],\n",
              "\n",
              "       [[1., 1., 1., ..., 1., 1., 1.],\n",
              "        [1., 1., 1., ..., 1., 1., 1.],\n",
              "        [1., 1., 1., ..., 1., 1., 1.],\n",
              "        ...,\n",
              "        [1., 1., 1., ..., 1., 1., 1.],\n",
              "        [1., 1., 1., ..., 1., 1., 1.],\n",
              "        [1., 1., 1., ..., 1., 1., 1.]],\n",
              "\n",
              "       [[1., 1., 1., ..., 1., 1., 1.],\n",
              "        [1., 1., 1., ..., 1., 1., 1.],\n",
              "        [1., 1., 1., ..., 1., 1., 1.],\n",
              "        ...,\n",
              "        [1., 1., 1., ..., 1., 1., 1.],\n",
              "        [1., 1., 1., ..., 1., 1., 1.],\n",
              "        [1., 1., 1., ..., 1., 1., 1.]],\n",
              "\n",
              "       ...,\n",
              "\n",
              "       [[1., 1., 1., ..., 1., 1., 1.],\n",
              "        [1., 1., 1., ..., 1., 1., 1.],\n",
              "        [1., 1., 1., ..., 1., 1., 1.],\n",
              "        ...,\n",
              "        [1., 1., 1., ..., 1., 1., 1.],\n",
              "        [1., 1., 1., ..., 1., 1., 1.],\n",
              "        [1., 1., 1., ..., 1., 1., 1.]],\n",
              "\n",
              "       [[1., 1., 1., ..., 1., 1., 1.],\n",
              "        [1., 1., 1., ..., 1., 1., 1.],\n",
              "        [1., 1., 1., ..., 1., 1., 1.],\n",
              "        ...,\n",
              "        [1., 1., 1., ..., 1., 1., 1.],\n",
              "        [1., 1., 1., ..., 1., 1., 1.],\n",
              "        [1., 1., 1., ..., 1., 1., 1.]],\n",
              "\n",
              "       [[1., 1., 1., ..., 1., 1., 1.],\n",
              "        [1., 1., 1., ..., 1., 1., 1.],\n",
              "        [1., 1., 1., ..., 1., 1., 1.],\n",
              "        ...,\n",
              "        [1., 1., 1., ..., 1., 1., 1.],\n",
              "        [1., 1., 1., ..., 1., 1., 1.],\n",
              "        [1., 1., 1., ..., 1., 1., 1.]]])"
            ]
          },
          "execution_count": 7,
          "metadata": {},
          "output_type": "execute_result"
        }
      ],
      "source": [
        "X"
      ]
    },
    {
      "cell_type": "code",
      "execution_count": 8,
      "metadata": {
        "colab": {
          "base_uri": "https://localhost:8080/"
        },
        "id": "SI-_8KabblAK",
        "outputId": "10bf0b8b-2657-4b70-e1cf-c93de74c48da"
      },
      "outputs": [
        {
          "data": {
            "text/plain": [
              "array([  0,   0,   0, ..., 656, 656, 656])"
            ]
          },
          "execution_count": 8,
          "metadata": {},
          "output_type": "execute_result"
        }
      ],
      "source": [
        "labels"
      ]
    },
    {
      "cell_type": "code",
      "execution_count": 9,
      "metadata": {
        "id": "Yc6tlhqD3doS"
      },
      "outputs": [],
      "source": [
        "# Dividing X, labels into training and testing data.\n",
        "from sklearn.model_selection import train_test_split\n",
        "X_train, X_test, y_train, y_test = train_test_split(X, labels, test_size=0.25, random_state=42)"
      ]
    },
    {
      "cell_type": "code",
      "execution_count": 10,
      "metadata": {
        "id": "3PpGqlXdAnFw"
      },
      "outputs": [],
      "source": [
        "# Reshape the data to fit the CNN model\n",
        "X_train = X_train.reshape(-1, 64, 64, 1)\n",
        "X_test = X_test.reshape(-1, 64, 64, 1)"
      ]
    },
    {
      "cell_type": "markdown",
      "metadata": {},
      "source": [
        "## CNN Implementation "
      ]
    },
    {
      "cell_type": "code",
      "execution_count": 12,
      "metadata": {
        "id": "vQz0fn7MCPC5"
      },
      "outputs": [
        {
          "name": "stderr",
          "output_type": "stream",
          "text": [
            "c:\\Users\\ranuj\\AppData\\Local\\Programs\\Python\\Python312\\Lib\\site-packages\\keras\\src\\layers\\convolutional\\base_conv.py:107: UserWarning: Do not pass an `input_shape`/`input_dim` argument to a layer. When using Sequential models, prefer using an `Input(shape)` object as the first layer in the model instead.\n",
            "  super().__init__(activity_regularizer=activity_regularizer, **kwargs)\n"
          ]
        }
      ],
      "source": [
        "from tensorflow.keras.models import Sequential\n",
        "from tensorflow.keras.layers import Conv2D, MaxPooling2D, Flatten, Dense, Dropout, BatchNormalization\n",
        "model = Sequential([\n",
        "        Conv2D(32, (3,3), activation='relu', input_shape=(64,64,1)), \n",
        "        BatchNormalization(),\n",
        "        MaxPooling2D((2,2)),\n",
        "        Conv2D(64, (3,3), activation='relu'),\n",
        "        BatchNormalization(),\n",
        "        MaxPooling2D((2,2)),\n",
        "        Conv2D(128, (3,3), activation='relu'),\n",
        "        BatchNormalization(),\n",
        "        MaxPooling2D((2,2)),\n",
        "        Flatten(),\n",
        "        Dense(128, activation='relu'),\n",
        "        BatchNormalization(),\n",
        "        Dropout(0.5),\n",
        "        Dense(657, activation='softmax')\n",
        "    ])\n",
        "model.compile(optimizer='adam', loss='sparse_categorical_crossentropy', metrics=['accuracy'])"
      ]
    },
    {
      "cell_type": "code",
      "execution_count": 13,
      "metadata": {},
      "outputs": [],
      "source": [
        "from tensorflow.keras.callbacks import EarlyStopping\n",
        "early_stopping_callback=EarlyStopping(monitor='val_loss',patience=20,restore_best_weights=True)"
      ]
    },
    {
      "cell_type": "code",
      "execution_count": 14,
      "metadata": {},
      "outputs": [],
      "source": [
        "from tensorflow.keras.preprocessing.image import ImageDataGenerator\n",
        "datagen = ImageDataGenerator(\n",
        "    rotation_range=20, \n",
        "    width_shift_range=0.2,\n",
        "    height_shift_range=0.2,\n",
        "    horizontal_flip=True,\n",
        "    zoom_range=0.2,\n",
        ")\n",
        "datagen.fit(X_train)"
      ]
    },
    {
      "cell_type": "code",
      "execution_count": 15,
      "metadata": {
        "colab": {
          "base_uri": "https://localhost:8080/",
          "height": 356
        },
        "id": "RD68838hD4Fc",
        "outputId": "48429541-383d-4247-9924-011bd110ed25"
      },
      "outputs": [
        {
          "name": "stdout",
          "output_type": "stream",
          "text": [
            "Epoch 1/100\n"
          ]
        },
        {
          "name": "stderr",
          "output_type": "stream",
          "text": [
            "c:\\Users\\ranuj\\AppData\\Local\\Programs\\Python\\Python312\\Lib\\site-packages\\keras\\src\\trainers\\data_adapters\\py_dataset_adapter.py:121: UserWarning: Your `PyDataset` class should call `super().__init__(**kwargs)` in its constructor. `**kwargs` can include `workers`, `use_multiprocessing`, `max_queue_size`. Do not pass these arguments to `fit()`, as they will be ignored.\n",
            "  self._warn_if_super_not_called()\n"
          ]
        },
        {
          "name": "stdout",
          "output_type": "stream",
          "text": [
            "\u001b[1m385/385\u001b[0m \u001b[32m━━━━━━━━━━━━━━━━━━━━\u001b[0m\u001b[37m\u001b[0m \u001b[1m72s\u001b[0m 175ms/step - accuracy: 0.0026 - loss: 6.6465 - val_accuracy: 4.8697e-04 - val_loss: 6.7573\n",
            "Epoch 2/100\n",
            "\u001b[1m385/385\u001b[0m \u001b[32m━━━━━━━━━━━━━━━━━━━━\u001b[0m\u001b[37m\u001b[0m \u001b[1m67s\u001b[0m 174ms/step - accuracy: 0.0047 - loss: 6.3970 - val_accuracy: 0.0068 - val_loss: 5.9893\n",
            "Epoch 3/100\n",
            "\u001b[1m385/385\u001b[0m \u001b[32m━━━━━━━━━━━━━━━━━━━━\u001b[0m\u001b[37m\u001b[0m \u001b[1m67s\u001b[0m 174ms/step - accuracy: 0.0071 - loss: 6.1338 - val_accuracy: 0.0017 - val_loss: 9.8538\n",
            "Epoch 4/100\n",
            "\u001b[1m385/385\u001b[0m \u001b[32m━━━━━━━━━━━━━━━━━━━━\u001b[0m\u001b[37m\u001b[0m \u001b[1m67s\u001b[0m 173ms/step - accuracy: 0.0116 - loss: 5.8432 - val_accuracy: 0.0056 - val_loss: 7.4289\n",
            "Epoch 5/100\n",
            "\u001b[1m385/385\u001b[0m \u001b[32m━━━━━━━━━━━━━━━━━━━━\u001b[0m\u001b[37m\u001b[0m \u001b[1m69s\u001b[0m 178ms/step - accuracy: 0.0273 - loss: 5.4627 - val_accuracy: 0.0114 - val_loss: 6.7866\n",
            "Epoch 6/100\n",
            "\u001b[1m385/385\u001b[0m \u001b[32m━━━━━━━━━━━━━━━━━━━━\u001b[0m\u001b[37m\u001b[0m \u001b[1m74s\u001b[0m 191ms/step - accuracy: 0.0497 - loss: 4.9870 - val_accuracy: 0.0565 - val_loss: 4.7391\n",
            "Epoch 7/100\n",
            "\u001b[1m385/385\u001b[0m \u001b[32m━━━━━━━━━━━━━━━━━━━━\u001b[0m\u001b[37m\u001b[0m \u001b[1m76s\u001b[0m 197ms/step - accuracy: 0.0776 - loss: 4.5065 - val_accuracy: 0.0083 - val_loss: 9.2775\n",
            "Epoch 8/100\n",
            "\u001b[1m385/385\u001b[0m \u001b[32m━━━━━━━━━━━━━━━━━━━━\u001b[0m\u001b[37m\u001b[0m \u001b[1m73s\u001b[0m 190ms/step - accuracy: 0.1119 - loss: 4.1532 - val_accuracy: 0.0592 - val_loss: 5.1944\n",
            "Epoch 9/100\n",
            "\u001b[1m385/385\u001b[0m \u001b[32m━━━━━━━━━━━━━━━━━━━━\u001b[0m\u001b[37m\u001b[0m \u001b[1m72s\u001b[0m 187ms/step - accuracy: 0.1493 - loss: 3.8276 - val_accuracy: 0.0394 - val_loss: 7.0600\n",
            "Epoch 10/100\n",
            "\u001b[1m385/385\u001b[0m \u001b[32m━━━━━━━━━━━━━━━━━━━━\u001b[0m\u001b[37m\u001b[0m \u001b[1m75s\u001b[0m 196ms/step - accuracy: 0.1939 - loss: 3.4916 - val_accuracy: 0.0735 - val_loss: 4.8157\n",
            "Epoch 11/100\n",
            "\u001b[1m385/385\u001b[0m \u001b[32m━━━━━━━━━━━━━━━━━━━━\u001b[0m\u001b[37m\u001b[0m \u001b[1m72s\u001b[0m 186ms/step - accuracy: 0.2330 - loss: 3.2310 - val_accuracy: 0.1176 - val_loss: 3.9785\n",
            "Epoch 12/100\n",
            "\u001b[1m385/385\u001b[0m \u001b[32m━━━━━━━━━━━━━━━━━━━━\u001b[0m\u001b[37m\u001b[0m \u001b[1m73s\u001b[0m 189ms/step - accuracy: 0.2599 - loss: 3.0434 - val_accuracy: 0.0470 - val_loss: 6.4838\n",
            "Epoch 13/100\n",
            "\u001b[1m385/385\u001b[0m \u001b[32m━━━━━━━━━━━━━━━━━━━━\u001b[0m\u001b[37m\u001b[0m \u001b[1m68s\u001b[0m 177ms/step - accuracy: 0.2997 - loss: 2.8609 - val_accuracy: 0.0979 - val_loss: 4.7837\n",
            "Epoch 14/100\n",
            "\u001b[1m385/385\u001b[0m \u001b[32m━━━━━━━━━━━━━━━━━━━━\u001b[0m\u001b[37m\u001b[0m \u001b[1m71s\u001b[0m 185ms/step - accuracy: 0.3244 - loss: 2.6953 - val_accuracy: 0.0752 - val_loss: 6.1693\n",
            "Epoch 15/100\n",
            "\u001b[1m385/385\u001b[0m \u001b[32m━━━━━━━━━━━━━━━━━━━━\u001b[0m\u001b[37m\u001b[0m \u001b[1m70s\u001b[0m 180ms/step - accuracy: 0.3511 - loss: 2.5662 - val_accuracy: 0.3601 - val_loss: 2.5160\n",
            "Epoch 16/100\n",
            "\u001b[1m385/385\u001b[0m \u001b[32m━━━━━━━━━━━━━━━━━━━━\u001b[0m\u001b[37m\u001b[0m \u001b[1m70s\u001b[0m 183ms/step - accuracy: 0.3789 - loss: 2.4578 - val_accuracy: 0.2625 - val_loss: 3.0158\n",
            "Epoch 17/100\n",
            "\u001b[1m385/385\u001b[0m \u001b[32m━━━━━━━━━━━━━━━━━━━━\u001b[0m\u001b[37m\u001b[0m \u001b[1m71s\u001b[0m 185ms/step - accuracy: 0.3975 - loss: 2.3469 - val_accuracy: 0.2379 - val_loss: 3.1683\n",
            "Epoch 18/100\n",
            "\u001b[1m385/385\u001b[0m \u001b[32m━━━━━━━━━━━━━━━━━━━━\u001b[0m\u001b[37m\u001b[0m \u001b[1m69s\u001b[0m 180ms/step - accuracy: 0.4147 - loss: 2.2641 - val_accuracy: 0.1804 - val_loss: 4.2439\n",
            "Epoch 19/100\n",
            "\u001b[1m385/385\u001b[0m \u001b[32m━━━━━━━━━━━━━━━━━━━━\u001b[0m\u001b[37m\u001b[0m \u001b[1m70s\u001b[0m 180ms/step - accuracy: 0.4417 - loss: 2.1569 - val_accuracy: 0.2225 - val_loss: 3.4572\n",
            "Epoch 20/100\n",
            "\u001b[1m385/385\u001b[0m \u001b[32m━━━━━━━━━━━━━━━━━━━━\u001b[0m\u001b[37m\u001b[0m \u001b[1m73s\u001b[0m 189ms/step - accuracy: 0.4570 - loss: 2.0723 - val_accuracy: 0.3216 - val_loss: 3.0006\n",
            "Epoch 21/100\n",
            "\u001b[1m385/385\u001b[0m \u001b[32m━━━━━━━━━━━━━━━━━━━━\u001b[0m\u001b[37m\u001b[0m \u001b[1m69s\u001b[0m 180ms/step - accuracy: 0.4682 - loss: 2.0175 - val_accuracy: 0.2306 - val_loss: 3.8575\n",
            "Epoch 22/100\n",
            "\u001b[1m385/385\u001b[0m \u001b[32m━━━━━━━━━━━━━━━━━━━━\u001b[0m\u001b[37m\u001b[0m \u001b[1m70s\u001b[0m 182ms/step - accuracy: 0.4748 - loss: 2.0015 - val_accuracy: 0.3572 - val_loss: 2.5226\n",
            "Epoch 23/100\n",
            "\u001b[1m385/385\u001b[0m \u001b[32m━━━━━━━━━━━━━━━━━━━━\u001b[0m\u001b[37m\u001b[0m \u001b[1m71s\u001b[0m 183ms/step - accuracy: 0.4856 - loss: 1.9506 - val_accuracy: 0.1926 - val_loss: 4.2838\n",
            "Epoch 24/100\n",
            "\u001b[1m385/385\u001b[0m \u001b[32m━━━━━━━━━━━━━━━━━━━━\u001b[0m\u001b[37m\u001b[0m \u001b[1m82s\u001b[0m 213ms/step - accuracy: 0.4918 - loss: 1.8987 - val_accuracy: 0.4726 - val_loss: 1.9182\n",
            "Epoch 25/100\n",
            "\u001b[1m385/385\u001b[0m \u001b[32m━━━━━━━━━━━━━━━━━━━━\u001b[0m\u001b[37m\u001b[0m \u001b[1m78s\u001b[0m 204ms/step - accuracy: 0.4994 - loss: 1.8940 - val_accuracy: 0.5225 - val_loss: 1.8025\n",
            "Epoch 26/100\n",
            "\u001b[1m385/385\u001b[0m \u001b[32m━━━━━━━━━━━━━━━━━━━━\u001b[0m\u001b[37m\u001b[0m \u001b[1m84s\u001b[0m 219ms/step - accuracy: 0.5146 - loss: 1.8209 - val_accuracy: 0.3776 - val_loss: 2.4441\n",
            "Epoch 27/100\n",
            "\u001b[1m385/385\u001b[0m \u001b[32m━━━━━━━━━━━━━━━━━━━━\u001b[0m\u001b[37m\u001b[0m \u001b[1m81s\u001b[0m 209ms/step - accuracy: 0.5251 - loss: 1.7710 - val_accuracy: 0.3073 - val_loss: 3.2702\n",
            "Epoch 28/100\n",
            "\u001b[1m385/385\u001b[0m \u001b[32m━━━━━━━━━━━━━━━━━━━━\u001b[0m\u001b[37m\u001b[0m \u001b[1m80s\u001b[0m 206ms/step - accuracy: 0.5421 - loss: 1.7014 - val_accuracy: 0.1945 - val_loss: 4.1282\n",
            "Epoch 29/100\n",
            "\u001b[1m385/385\u001b[0m \u001b[32m━━━━━━━━━━━━━━━━━━━━\u001b[0m\u001b[37m\u001b[0m \u001b[1m66s\u001b[0m 172ms/step - accuracy: 0.5466 - loss: 1.6908 - val_accuracy: 0.1729 - val_loss: 5.2642\n",
            "Epoch 30/100\n",
            "\u001b[1m385/385\u001b[0m \u001b[32m━━━━━━━━━━━━━━━━━━━━\u001b[0m\u001b[37m\u001b[0m \u001b[1m64s\u001b[0m 166ms/step - accuracy: 0.5428 - loss: 1.7020 - val_accuracy: 0.0604 - val_loss: 10.3213\n",
            "Epoch 31/100\n",
            "\u001b[1m385/385\u001b[0m \u001b[32m━━━━━━━━━━━━━━━━━━━━\u001b[0m\u001b[37m\u001b[0m \u001b[1m67s\u001b[0m 174ms/step - accuracy: 0.5412 - loss: 1.7069 - val_accuracy: 0.2437 - val_loss: 4.0107\n",
            "Epoch 32/100\n",
            "\u001b[1m385/385\u001b[0m \u001b[32m━━━━━━━━━━━━━━━━━━━━\u001b[0m\u001b[37m\u001b[0m \u001b[1m69s\u001b[0m 180ms/step - accuracy: 0.5538 - loss: 1.6603 - val_accuracy: 0.5147 - val_loss: 1.7514\n",
            "Epoch 33/100\n",
            "\u001b[1m385/385\u001b[0m \u001b[32m━━━━━━━━━━━━━━━━━━━━\u001b[0m\u001b[37m\u001b[0m \u001b[1m69s\u001b[0m 179ms/step - accuracy: 0.5615 - loss: 1.6226 - val_accuracy: 0.5247 - val_loss: 1.7665\n",
            "Epoch 34/100\n",
            "\u001b[1m385/385\u001b[0m \u001b[32m━━━━━━━━━━━━━━━━━━━━\u001b[0m\u001b[37m\u001b[0m \u001b[1m77s\u001b[0m 199ms/step - accuracy: 0.5526 - loss: 1.6528 - val_accuracy: 0.5564 - val_loss: 1.6190\n",
            "Epoch 35/100\n",
            "\u001b[1m385/385\u001b[0m \u001b[32m━━━━━━━━━━━━━━━━━━━━\u001b[0m\u001b[37m\u001b[0m \u001b[1m69s\u001b[0m 180ms/step - accuracy: 0.5597 - loss: 1.6015 - val_accuracy: 0.2328 - val_loss: 4.1822\n",
            "Epoch 36/100\n",
            "\u001b[1m385/385\u001b[0m \u001b[32m━━━━━━━━━━━━━━━━━━━━\u001b[0m\u001b[37m\u001b[0m \u001b[1m71s\u001b[0m 184ms/step - accuracy: 0.5705 - loss: 1.5936 - val_accuracy: 0.5274 - val_loss: 1.8751\n",
            "Epoch 37/100\n",
            "\u001b[1m385/385\u001b[0m \u001b[32m━━━━━━━━━━━━━━━━━━━━\u001b[0m\u001b[37m\u001b[0m \u001b[1m69s\u001b[0m 179ms/step - accuracy: 0.5792 - loss: 1.5697 - val_accuracy: 0.3762 - val_loss: 2.6589\n",
            "Epoch 38/100\n",
            "\u001b[1m385/385\u001b[0m \u001b[32m━━━━━━━━━━━━━━━━━━━━\u001b[0m\u001b[37m\u001b[0m \u001b[1m71s\u001b[0m 184ms/step - accuracy: 0.5737 - loss: 1.5568 - val_accuracy: 0.5021 - val_loss: 1.8902\n",
            "Epoch 39/100\n",
            "\u001b[1m385/385\u001b[0m \u001b[32m━━━━━━━━━━━━━━━━━━━━\u001b[0m\u001b[37m\u001b[0m \u001b[1m70s\u001b[0m 182ms/step - accuracy: 0.5821 - loss: 1.5368 - val_accuracy: 0.4385 - val_loss: 2.2208\n",
            "Epoch 40/100\n",
            "\u001b[1m385/385\u001b[0m \u001b[32m━━━━━━━━━━━━━━━━━━━━\u001b[0m\u001b[37m\u001b[0m \u001b[1m70s\u001b[0m 181ms/step - accuracy: 0.5745 - loss: 1.5369 - val_accuracy: 0.5561 - val_loss: 1.6104\n",
            "Epoch 41/100\n",
            "\u001b[1m385/385\u001b[0m \u001b[32m━━━━━━━━━━━━━━━━━━━━\u001b[0m\u001b[37m\u001b[0m \u001b[1m76s\u001b[0m 197ms/step - accuracy: 0.5941 - loss: 1.4881 - val_accuracy: 0.5128 - val_loss: 1.8319\n",
            "Epoch 42/100\n",
            "\u001b[1m385/385\u001b[0m \u001b[32m━━━━━━━━━━━━━━━━━━━━\u001b[0m\u001b[37m\u001b[0m \u001b[1m70s\u001b[0m 182ms/step - accuracy: 0.5862 - loss: 1.4839 - val_accuracy: 0.2065 - val_loss: 4.9136\n",
            "Epoch 43/100\n",
            "\u001b[1m385/385\u001b[0m \u001b[32m━━━━━━━━━━━━━━━━━━━━\u001b[0m\u001b[37m\u001b[0m \u001b[1m74s\u001b[0m 192ms/step - accuracy: 0.5901 - loss: 1.4717 - val_accuracy: 0.3667 - val_loss: 2.9648\n",
            "Epoch 44/100\n",
            "\u001b[1m385/385\u001b[0m \u001b[32m━━━━━━━━━━━━━━━━━━━━\u001b[0m\u001b[37m\u001b[0m \u001b[1m92s\u001b[0m 239ms/step - accuracy: 0.5959 - loss: 1.4834 - val_accuracy: 0.5398 - val_loss: 1.6349\n",
            "Epoch 45/100\n",
            "\u001b[1m385/385\u001b[0m \u001b[32m━━━━━━━━━━━━━━━━━━━━\u001b[0m\u001b[37m\u001b[0m \u001b[1m90s\u001b[0m 232ms/step - accuracy: 0.5976 - loss: 1.4474 - val_accuracy: 0.5970 - val_loss: 1.4134\n",
            "Epoch 46/100\n",
            "\u001b[1m385/385\u001b[0m \u001b[32m━━━━━━━━━━━━━━━━━━━━\u001b[0m\u001b[37m\u001b[0m \u001b[1m86s\u001b[0m 224ms/step - accuracy: 0.6014 - loss: 1.4371 - val_accuracy: 0.3535 - val_loss: 2.6648\n",
            "Epoch 47/100\n",
            "\u001b[1m385/385\u001b[0m \u001b[32m━━━━━━━━━━━━━━━━━━━━\u001b[0m\u001b[37m\u001b[0m \u001b[1m89s\u001b[0m 230ms/step - accuracy: 0.6171 - loss: 1.3913 - val_accuracy: 0.7302 - val_loss: 0.9390\n",
            "Epoch 48/100\n",
            "\u001b[1m385/385\u001b[0m \u001b[32m━━━━━━━━━━━━━━━━━━━━\u001b[0m\u001b[37m\u001b[0m \u001b[1m91s\u001b[0m 236ms/step - accuracy: 0.6106 - loss: 1.4121 - val_accuracy: 0.3725 - val_loss: 2.6890\n",
            "Epoch 49/100\n",
            "\u001b[1m385/385\u001b[0m \u001b[32m━━━━━━━━━━━━━━━━━━━━\u001b[0m\u001b[37m\u001b[0m \u001b[1m86s\u001b[0m 223ms/step - accuracy: 0.5986 - loss: 1.4281 - val_accuracy: 0.3143 - val_loss: 3.5141\n",
            "Epoch 50/100\n",
            "\u001b[1m385/385\u001b[0m \u001b[32m━━━━━━━━━━━━━━━━━━━━\u001b[0m\u001b[37m\u001b[0m \u001b[1m87s\u001b[0m 226ms/step - accuracy: 0.6104 - loss: 1.3805 - val_accuracy: 0.3219 - val_loss: 3.1741\n",
            "Epoch 51/100\n",
            "\u001b[1m385/385\u001b[0m \u001b[32m━━━━━━━━━━━━━━━━━━━━\u001b[0m\u001b[37m\u001b[0m \u001b[1m88s\u001b[0m 228ms/step - accuracy: 0.6201 - loss: 1.3822 - val_accuracy: 0.2518 - val_loss: 4.5920\n",
            "Epoch 52/100\n",
            "\u001b[1m385/385\u001b[0m \u001b[32m━━━━━━━━━━━━━━━━━━━━\u001b[0m\u001b[37m\u001b[0m \u001b[1m89s\u001b[0m 231ms/step - accuracy: 0.6215 - loss: 1.3765 - val_accuracy: 0.6007 - val_loss: 1.4573\n",
            "Epoch 53/100\n",
            "\u001b[1m385/385\u001b[0m \u001b[32m━━━━━━━━━━━━━━━━━━━━\u001b[0m\u001b[37m\u001b[0m \u001b[1m89s\u001b[0m 231ms/step - accuracy: 0.6180 - loss: 1.3603 - val_accuracy: 0.5001 - val_loss: 1.8558\n",
            "Epoch 54/100\n",
            "\u001b[1m385/385\u001b[0m \u001b[32m━━━━━━━━━━━━━━━━━━━━\u001b[0m\u001b[37m\u001b[0m \u001b[1m88s\u001b[0m 228ms/step - accuracy: 0.6312 - loss: 1.3267 - val_accuracy: 0.6309 - val_loss: 1.3444\n",
            "Epoch 55/100\n",
            "\u001b[1m385/385\u001b[0m \u001b[32m━━━━━━━━━━━━━━━━━━━━\u001b[0m\u001b[37m\u001b[0m \u001b[1m89s\u001b[0m 232ms/step - accuracy: 0.6281 - loss: 1.3295 - val_accuracy: 0.6922 - val_loss: 1.1265\n",
            "Epoch 56/100\n",
            "\u001b[1m385/385\u001b[0m \u001b[32m━━━━━━━━━━━━━━━━━━━━\u001b[0m\u001b[37m\u001b[0m \u001b[1m88s\u001b[0m 228ms/step - accuracy: 0.6226 - loss: 1.3584 - val_accuracy: 0.5082 - val_loss: 1.8676\n",
            "Epoch 57/100\n",
            "\u001b[1m385/385\u001b[0m \u001b[32m━━━━━━━━━━━━━━━━━━━━\u001b[0m\u001b[37m\u001b[0m \u001b[1m90s\u001b[0m 233ms/step - accuracy: 0.6338 - loss: 1.3239 - val_accuracy: 0.5688 - val_loss: 1.5560\n",
            "Epoch 58/100\n",
            "\u001b[1m385/385\u001b[0m \u001b[32m━━━━━━━━━━━━━━━━━━━━\u001b[0m\u001b[37m\u001b[0m \u001b[1m95s\u001b[0m 246ms/step - accuracy: 0.6179 - loss: 1.3522 - val_accuracy: 0.5128 - val_loss: 1.7870\n",
            "Epoch 59/100\n",
            "\u001b[1m385/385\u001b[0m \u001b[32m━━━━━━━━━━━━━━━━━━━━\u001b[0m\u001b[37m\u001b[0m \u001b[1m91s\u001b[0m 235ms/step - accuracy: 0.6281 - loss: 1.3421 - val_accuracy: 0.6562 - val_loss: 1.2719\n",
            "Epoch 60/100\n",
            "\u001b[1m385/385\u001b[0m \u001b[32m━━━━━━━━━━━━━━━━━━━━\u001b[0m\u001b[37m\u001b[0m \u001b[1m92s\u001b[0m 240ms/step - accuracy: 0.6363 - loss: 1.3112 - val_accuracy: 0.3216 - val_loss: 3.4295\n",
            "Epoch 61/100\n",
            "\u001b[1m385/385\u001b[0m \u001b[32m━━━━━━━━━━━━━━━━━━━━\u001b[0m\u001b[37m\u001b[0m \u001b[1m91s\u001b[0m 236ms/step - accuracy: 0.6378 - loss: 1.3126 - val_accuracy: 0.5551 - val_loss: 1.7653\n",
            "Epoch 62/100\n",
            "\u001b[1m385/385\u001b[0m \u001b[32m━━━━━━━━━━━━━━━━━━━━\u001b[0m\u001b[37m\u001b[0m \u001b[1m82s\u001b[0m 212ms/step - accuracy: 0.6362 - loss: 1.3187 - val_accuracy: 0.6552 - val_loss: 1.3094\n",
            "Epoch 63/100\n",
            "\u001b[1m385/385\u001b[0m \u001b[32m━━━━━━━━━━━━━━━━━━━━\u001b[0m\u001b[37m\u001b[0m \u001b[1m91s\u001b[0m 235ms/step - accuracy: 0.6444 - loss: 1.2717 - val_accuracy: 0.5598 - val_loss: 1.6710\n",
            "Epoch 64/100\n",
            "\u001b[1m385/385\u001b[0m \u001b[32m━━━━━━━━━━━━━━━━━━━━\u001b[0m\u001b[37m\u001b[0m \u001b[1m79s\u001b[0m 206ms/step - accuracy: 0.6422 - loss: 1.2573 - val_accuracy: 0.5486 - val_loss: 1.6702\n",
            "Epoch 65/100\n",
            "\u001b[1m385/385\u001b[0m \u001b[32m━━━━━━━━━━━━━━━━━━━━\u001b[0m\u001b[37m\u001b[0m \u001b[1m81s\u001b[0m 211ms/step - accuracy: 0.6642 - loss: 1.2391 - val_accuracy: 0.4724 - val_loss: 2.2859\n",
            "Epoch 66/100\n",
            "\u001b[1m385/385\u001b[0m \u001b[32m━━━━━━━━━━━━━━━━━━━━\u001b[0m\u001b[37m\u001b[0m \u001b[1m81s\u001b[0m 210ms/step - accuracy: 0.6504 - loss: 1.2523 - val_accuracy: 0.3141 - val_loss: 3.6203\n",
            "Epoch 67/100\n",
            "\u001b[1m385/385\u001b[0m \u001b[32m━━━━━━━━━━━━━━━━━━━━\u001b[0m\u001b[37m\u001b[0m \u001b[1m85s\u001b[0m 220ms/step - accuracy: 0.6454 - loss: 1.2992 - val_accuracy: 0.5661 - val_loss: 1.6338\n"
          ]
        },
        {
          "data": {
            "text/plain": [
              "<keras.src.callbacks.history.History at 0x294222d1910>"
            ]
          },
          "execution_count": 15,
          "metadata": {},
          "output_type": "execute_result"
        }
      ],
      "source": [
        "model.fit(datagen.flow(X_train, y_train, batch_size=32), epochs=100, validation_data=(X_test, y_test), callbacks=[early_stopping_callback])"
      ]
    },
    {
      "cell_type": "code",
      "execution_count": 18,
      "metadata": {},
      "outputs": [
        {
          "name": "stdout",
          "output_type": "stream",
          "text": [
            "\u001b[1m129/129\u001b[0m \u001b[32m━━━━━━━━━━━━━━━━━━━━\u001b[0m\u001b[37m\u001b[0m \u001b[1m4s\u001b[0m 33ms/step\n",
            "0.7302167031896761\n"
          ]
        }
      ],
      "source": [
        "y_pred = model.predict(X_test)\n",
        "y_pred_classes = np.argmax(y_pred, axis=1)\n",
        "from sklearn.metrics import accuracy_score\n",
        "print(accuracy_score(y_pred_classes, y_test))"
      ]
    },
    {
      "cell_type": "code",
      "execution_count": 19,
      "metadata": {},
      "outputs": [
        {
          "name": "stderr",
          "output_type": "stream",
          "text": [
            "WARNING:absl:You are saving your model as an HDF5 file via `model.save()` or `keras.saving.save_model(model)`. This file format is considered legacy. We recommend using instead the native Keras format, e.g. `model.save('my_model.keras')` or `keras.saving.save_model(model, 'my_model.keras')`. \n"
          ]
        }
      ],
      "source": [
        "model.save('cnn.h5')"
      ]
    },
    {
      "cell_type": "code",
      "execution_count": 16,
      "metadata": {},
      "outputs": [
        {
          "name": "stderr",
          "output_type": "stream",
          "text": [
            "WARNING:absl:Compiled the loaded model, but the compiled metrics have yet to be built. `model.compile_metrics` will be empty until you train or evaluate the model.\n"
          ]
        }
      ],
      "source": [
        "from tensorflow.keras.models import load_model\n",
        "model = load_model('cnn.h5')"
      ]
    },
    {
      "cell_type": "code",
      "execution_count": 25,
      "metadata": {},
      "outputs": [
        {
          "name": "stderr",
          "output_type": "stream",
          "text": [
            "c:\\Users\\ranuj\\AppData\\Local\\Programs\\Python\\Python312\\Lib\\site-packages\\keras\\src\\models\\functional.py:237: UserWarning: The structure of `inputs` doesn't match the expected structure.\n",
            "Expected: ['keras_tensor']\n",
            "Received: inputs=Tensor(shape=(32, 64, 64, 1))\n",
            "  warnings.warn(msg)\n"
          ]
        },
        {
          "name": "stdout",
          "output_type": "stream",
          "text": [
            "\u001b[1m384/385\u001b[0m \u001b[32m━━━━━━━━━━━━━━━━━━━\u001b[0m\u001b[37m━\u001b[0m \u001b[1m0s\u001b[0m 48ms/step"
          ]
        },
        {
          "name": "stderr",
          "output_type": "stream",
          "text": [
            "c:\\Users\\ranuj\\AppData\\Local\\Programs\\Python\\Python312\\Lib\\site-packages\\keras\\src\\models\\functional.py:237: UserWarning: The structure of `inputs` doesn't match the expected structure.\n",
            "Expected: ['keras_tensor']\n",
            "Received: inputs=Tensor(shape=(None, 64, 64, 1))\n",
            "  warnings.warn(msg)\n"
          ]
        },
        {
          "name": "stdout",
          "output_type": "stream",
          "text": [
            "\u001b[1m385/385\u001b[0m \u001b[32m━━━━━━━━━━━━━━━━━━━━\u001b[0m\u001b[37m\u001b[0m \u001b[1m20s\u001b[0m 51ms/step\n",
            "\u001b[1m129/129\u001b[0m \u001b[32m━━━━━━━━━━━━━━━━━━━━\u001b[0m\u001b[37m\u001b[0m \u001b[1m7s\u001b[0m 51ms/step\n"
          ]
        }
      ],
      "source": [
        "# Feature Extraction from CNN Model.\n",
        "from tensorflow.keras.models import Model\n",
        "feature_extractor = Model(inputs=model.inputs, outputs=model.get_layer(index=9).output)\n",
        "X_train_features = feature_extractor.predict(X_train)\n",
        "X_test_features = feature_extractor.predict(X_test)"
      ]
    },
    {
      "cell_type": "markdown",
      "metadata": {},
      "source": [
        "## KNN Implementation"
      ]
    },
    {
      "cell_type": "code",
      "execution_count": 26,
      "metadata": {},
      "outputs": [
        {
          "name": "stdout",
          "output_type": "stream",
          "text": [
            "KNN Accuracy: 0.17384952520087654\n"
          ]
        }
      ],
      "source": [
        "from sklearn.neighbors import KNeighborsClassifier\n",
        "from sklearn.metrics import accuracy_score\n",
        "knn = KNeighborsClassifier()\n",
        "knn.fit(X_train_features, y_train)\n",
        "y_pred_knn = knn.predict(X_test_features)\n",
        "accuracy_knn = accuracy_score(y_test, y_pred_knn)\n",
        "print(f\"KNN Accuracy: {accuracy_knn}\")"
      ]
    },
    {
      "cell_type": "markdown",
      "metadata": {},
      "source": [
        "## SVM Implementation"
      ]
    },
    {
      "cell_type": "code",
      "execution_count": 29,
      "metadata": {},
      "outputs": [
        {
          "name": "stdout",
          "output_type": "stream",
          "text": [
            "SVM Accuracy: 0.6094472851229608\n"
          ]
        }
      ],
      "source": [
        "from sklearn.svm import SVC\n",
        "svm = SVC(kernel='linear')\n",
        "svm.fit(X_train_features, y_train)\n",
        "y_pred_svm = svm.predict(X_test_features)\n",
        "accuracy_svm = accuracy_score(y_test, y_pred_svm)\n",
        "print(f\"SVM Accuracy: {accuracy_svm}\")"
      ]
    }
  ],
  "metadata": {
    "colab": {
      "provenance": []
    },
    "kernelspec": {
      "display_name": "Python 3",
      "name": "python3"
    },
    "language_info": {
      "codemirror_mode": {
        "name": "ipython",
        "version": 3
      },
      "file_extension": ".py",
      "mimetype": "text/x-python",
      "name": "python",
      "nbconvert_exporter": "python",
      "pygments_lexer": "ipython3",
      "version": "3.12.4"
    }
  },
  "nbformat": 4,
  "nbformat_minor": 0
}
