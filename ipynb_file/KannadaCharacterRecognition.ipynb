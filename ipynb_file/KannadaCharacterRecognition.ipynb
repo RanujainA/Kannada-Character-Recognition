{
 "cells": [
  {
   "cell_type": "code",
   "execution_count": 1,
   "id": "fdd0a9f0",
   "metadata": {},
   "outputs": [
    {
     "data": {
      "text/html": [
       "<div>\n",
       "<style scoped>\n",
       "    .dataframe tbody tr th:only-of-type {\n",
       "        vertical-align: middle;\n",
       "    }\n",
       "\n",
       "    .dataframe tbody tr th {\n",
       "        vertical-align: top;\n",
       "    }\n",
       "\n",
       "    .dataframe thead th {\n",
       "        text-align: right;\n",
       "    }\n",
       "</style>\n",
       "<table border=\"1\" class=\"dataframe\">\n",
       "  <thead>\n",
       "    <tr style=\"text-align: right;\">\n",
       "      <th></th>\n",
       "      <th>img</th>\n",
       "      <th>class</th>\n",
       "    </tr>\n",
       "  </thead>\n",
       "  <tbody>\n",
       "    <tr>\n",
       "      <th>0</th>\n",
       "      <td>Img/img001-001.png</td>\n",
       "      <td>1</td>\n",
       "    </tr>\n",
       "    <tr>\n",
       "      <th>1</th>\n",
       "      <td>Img/img001-002.png</td>\n",
       "      <td>1</td>\n",
       "    </tr>\n",
       "  </tbody>\n",
       "</table>\n",
       "</div>"
      ],
      "text/plain": [
       "                  img  class\n",
       "0  Img/img001-001.png      1\n",
       "1  Img/img001-002.png      1"
      ]
     },
     "execution_count": 1,
     "metadata": {},
     "output_type": "execute_result"
    }
   ],
   "source": [
    "import pandas as pd\n",
    "df = pd.read_csv('../Dataset/archive/kannada.csv')\n",
    "df.head(2)"
   ]
  },
  {
   "cell_type": "code",
   "execution_count": 2,
   "id": "5d7d7f06",
   "metadata": {},
   "outputs": [],
   "source": [
    "# Changing class range from 0 to 654.\n",
    "df['class'] = df['class'] - 1 "
   ]
  },
  {
   "cell_type": "code",
   "execution_count": 3,
   "id": "1d735183",
   "metadata": {},
   "outputs": [
    {
     "data": {
      "text/plain": [
       "(16375, 2)"
      ]
     },
     "execution_count": 3,
     "metadata": {},
     "output_type": "execute_result"
    }
   ],
   "source": [
    "# Dataset Size\n",
    "df.shape"
   ]
  },
  {
   "cell_type": "code",
   "execution_count": 4,
   "id": "0b62e401",
   "metadata": {},
   "outputs": [
    {
     "data": {
      "text/plain": [
       "655"
      ]
     },
     "execution_count": 4,
     "metadata": {},
     "output_type": "execute_result"
    }
   ],
   "source": [
    "# Total Numbers of Output Classes\n",
    "len(df['class'].unique())"
   ]
  },
  {
   "cell_type": "code",
   "execution_count": 5,
   "id": "eea8ac98",
   "metadata": {},
   "outputs": [
    {
     "data": {
      "text/plain": [
       "class\n",
       "654    25\n",
       "0      25\n",
       "1      25\n",
       "2      25\n",
       "3      25\n",
       "       ..\n",
       "19     25\n",
       "18     25\n",
       "17     25\n",
       "16     25\n",
       "15     25\n",
       "Name: count, Length: 655, dtype: int64"
      ]
     },
     "execution_count": 5,
     "metadata": {},
     "output_type": "execute_result"
    }
   ],
   "source": [
    "# Total Number of Images Per Class\n",
    "df['class'].value_counts()"
   ]
  },
  {
   "cell_type": "markdown",
   "id": "37450675",
   "metadata": {},
   "source": [
    "## Preprocessing the images"
   ]
  },
  {
   "cell_type": "code",
   "execution_count": 6,
   "id": "031b9d1a",
   "metadata": {},
   "outputs": [],
   "source": [
    "import numpy as np\n",
    "import cv2\n",
    "import os\n",
    "def load_and_preprocess_images(img_dir, image_paths, labels):\n",
    "    \"\"\"Used to preprocess the image such as grayscale convertion, resizing, normalization etc.\"\"\"\n",
    "    images = []\n",
    "    class_labels = []\n",
    "    full_paths = [os.path.join(img_dir, img_path) for img_path in image_paths]\n",
    "    for index in range(len(full_paths)):\n",
    "        img = cv2.imread(full_paths[index], cv2.IMREAD_GRAYSCALE)\n",
    "        if img is not None:\n",
    "            img = cv2.resize(img, (64, 64)) \n",
    "            img = img / 255.0\n",
    "            images.append(img)\n",
    "            class_labels.append(labels[index])\n",
    "    return np.array(images), np.array(class_labels)\n",
    "img_dir = '../Dataset/archive/'\n",
    "image_paths = df[\"img\"].values\n",
    "labels = df[\"class\"].values\n",
    "X, y = load_and_preprocess_images(img_dir, image_paths, labels)"
   ]
  },
  {
   "cell_type": "code",
   "execution_count": 7,
   "id": "593bd28a",
   "metadata": {},
   "outputs": [],
   "source": [
    "from sklearn.model_selection import train_test_split\n",
    "X_train, X_test, y_train, y_test = train_test_split(X, y, test_size=0.2, random_state=3)"
   ]
  },
  {
   "cell_type": "code",
   "execution_count": 8,
   "id": "dab8c279",
   "metadata": {},
   "outputs": [
    {
     "data": {
      "text/plain": [
       "array([[[1., 1., 1., ..., 1., 1., 1.],\n",
       "        [1., 1., 1., ..., 1., 1., 1.],\n",
       "        [1., 1., 1., ..., 1., 1., 1.],\n",
       "        ...,\n",
       "        [1., 1., 1., ..., 1., 1., 1.],\n",
       "        [1., 1., 1., ..., 1., 1., 1.],\n",
       "        [1., 1., 1., ..., 1., 1., 1.]],\n",
       "\n",
       "       [[1., 1., 1., ..., 1., 1., 1.],\n",
       "        [1., 1., 1., ..., 1., 1., 1.],\n",
       "        [1., 1., 1., ..., 1., 1., 1.],\n",
       "        ...,\n",
       "        [1., 1., 1., ..., 1., 1., 1.],\n",
       "        [1., 1., 1., ..., 1., 1., 1.],\n",
       "        [1., 1., 1., ..., 1., 1., 1.]],\n",
       "\n",
       "       [[1., 1., 1., ..., 1., 1., 1.],\n",
       "        [1., 1., 1., ..., 1., 1., 1.],\n",
       "        [1., 1., 1., ..., 1., 1., 1.],\n",
       "        ...,\n",
       "        [1., 1., 1., ..., 1., 1., 1.],\n",
       "        [1., 1., 1., ..., 1., 1., 1.],\n",
       "        [1., 1., 1., ..., 1., 1., 1.]],\n",
       "\n",
       "       ...,\n",
       "\n",
       "       [[1., 1., 1., ..., 1., 1., 1.],\n",
       "        [1., 1., 1., ..., 1., 1., 1.],\n",
       "        [1., 1., 1., ..., 1., 1., 1.],\n",
       "        ...,\n",
       "        [1., 1., 1., ..., 1., 1., 1.],\n",
       "        [1., 1., 1., ..., 1., 1., 1.],\n",
       "        [1., 1., 1., ..., 1., 1., 1.]],\n",
       "\n",
       "       [[1., 1., 1., ..., 1., 1., 1.],\n",
       "        [1., 1., 1., ..., 1., 1., 1.],\n",
       "        [1., 1., 1., ..., 1., 1., 1.],\n",
       "        ...,\n",
       "        [1., 1., 1., ..., 1., 1., 1.],\n",
       "        [1., 1., 1., ..., 1., 1., 1.],\n",
       "        [1., 1., 1., ..., 1., 1., 1.]],\n",
       "\n",
       "       [[1., 1., 1., ..., 1., 1., 1.],\n",
       "        [1., 1., 1., ..., 1., 1., 1.],\n",
       "        [1., 1., 1., ..., 1., 1., 1.],\n",
       "        ...,\n",
       "        [1., 1., 1., ..., 1., 1., 1.],\n",
       "        [1., 1., 1., ..., 1., 1., 1.],\n",
       "        [1., 1., 1., ..., 1., 1., 1.]]])"
      ]
     },
     "execution_count": 8,
     "metadata": {},
     "output_type": "execute_result"
    }
   ],
   "source": [
    "X_train"
   ]
  },
  {
   "cell_type": "code",
   "execution_count": 9,
   "id": "06733d28",
   "metadata": {},
   "outputs": [
    {
     "data": {
      "text/plain": [
       "(array([271, 551,   3, ..., 461,  67, 240]), 13026)"
      ]
     },
     "execution_count": 9,
     "metadata": {},
     "output_type": "execute_result"
    }
   ],
   "source": [
    "y_train, len(y_train)"
   ]
  },
  {
   "cell_type": "code",
   "execution_count": 10,
   "id": "068374b4",
   "metadata": {},
   "outputs": [
    {
     "data": {
      "text/plain": [
       "array([[[1., 1., 1., ..., 1., 1., 1.],\n",
       "        [1., 1., 1., ..., 1., 1., 1.],\n",
       "        [1., 1., 1., ..., 1., 1., 1.],\n",
       "        ...,\n",
       "        [1., 1., 1., ..., 1., 1., 1.],\n",
       "        [1., 1., 1., ..., 1., 1., 1.],\n",
       "        [1., 1., 1., ..., 1., 1., 1.]],\n",
       "\n",
       "       [[1., 1., 1., ..., 1., 1., 1.],\n",
       "        [1., 1., 1., ..., 1., 1., 1.],\n",
       "        [1., 1., 1., ..., 1., 1., 1.],\n",
       "        ...,\n",
       "        [1., 1., 1., ..., 1., 1., 1.],\n",
       "        [1., 1., 1., ..., 1., 1., 1.],\n",
       "        [1., 1., 1., ..., 1., 1., 1.]],\n",
       "\n",
       "       [[1., 1., 1., ..., 1., 1., 1.],\n",
       "        [1., 1., 1., ..., 1., 1., 1.],\n",
       "        [1., 1., 1., ..., 1., 1., 1.],\n",
       "        ...,\n",
       "        [1., 1., 1., ..., 1., 1., 1.],\n",
       "        [1., 1., 1., ..., 1., 1., 1.],\n",
       "        [1., 1., 1., ..., 1., 1., 1.]],\n",
       "\n",
       "       ...,\n",
       "\n",
       "       [[1., 1., 1., ..., 1., 1., 1.],\n",
       "        [1., 1., 1., ..., 1., 1., 1.],\n",
       "        [1., 1., 1., ..., 1., 1., 1.],\n",
       "        ...,\n",
       "        [1., 1., 1., ..., 1., 1., 1.],\n",
       "        [1., 1., 1., ..., 1., 1., 1.],\n",
       "        [1., 1., 1., ..., 1., 1., 1.]],\n",
       "\n",
       "       [[1., 1., 1., ..., 1., 1., 1.],\n",
       "        [1., 1., 1., ..., 1., 1., 1.],\n",
       "        [1., 1., 1., ..., 1., 1., 1.],\n",
       "        ...,\n",
       "        [1., 1., 1., ..., 1., 1., 1.],\n",
       "        [1., 1., 1., ..., 1., 1., 1.],\n",
       "        [1., 1., 1., ..., 1., 1., 1.]],\n",
       "\n",
       "       [[1., 1., 1., ..., 1., 1., 1.],\n",
       "        [1., 1., 1., ..., 1., 1., 1.],\n",
       "        [1., 1., 1., ..., 1., 1., 1.],\n",
       "        ...,\n",
       "        [1., 1., 1., ..., 1., 1., 1.],\n",
       "        [1., 1., 1., ..., 1., 1., 1.],\n",
       "        [1., 1., 1., ..., 1., 1., 1.]]])"
      ]
     },
     "execution_count": 10,
     "metadata": {},
     "output_type": "execute_result"
    }
   ],
   "source": [
    "X_test"
   ]
  },
  {
   "cell_type": "code",
   "execution_count": 11,
   "id": "6fd9c1d3-dc5c-4180-bbf9-f1c0b180c982",
   "metadata": {},
   "outputs": [
    {
     "data": {
      "text/plain": [
       "(array([553, 403,  80, ..., 278, 479, 111]), 3257)"
      ]
     },
     "execution_count": 11,
     "metadata": {},
     "output_type": "execute_result"
    }
   ],
   "source": [
    "y_test, len(y_test)"
   ]
  },
  {
   "cell_type": "code",
   "execution_count": 12,
   "id": "88a07da0-d38d-4a2b-bc78-87314e711b01",
   "metadata": {},
   "outputs": [],
   "source": [
    "# Reshaping the data to fit the CNN Model.\n",
    "X_train = X_train.reshape(-1, 64, 64, 1)\n",
    "X_test = X_test.reshape(-1, 64, 64, 1)"
   ]
  },
  {
   "cell_type": "markdown",
   "id": "237e9962",
   "metadata": {},
   "source": [
    "## CNN Implementation"
   ]
  },
  {
   "cell_type": "code",
   "execution_count": 13,
   "id": "709dc5bb-90b7-4c0a-8cdf-312ffd1ef581",
   "metadata": {},
   "outputs": [
    {
     "name": "stderr",
     "output_type": "stream",
     "text": [
      "C:\\Users\\ranuj\\AppData\\Local\\Programs\\Python\\Python312\\Lib\\site-packages\\keras\\src\\layers\\convolutional\\base_conv.py:107: UserWarning: Do not pass an `input_shape`/`input_dim` argument to a layer. When using Sequential models, prefer using an `Input(shape)` object as the first layer in the model instead.\n",
      "  super().__init__(activity_regularizer=activity_regularizer, **kwargs)\n"
     ]
    }
   ],
   "source": [
    "from tensorflow.keras.models import Sequential\n",
    "from tensorflow.keras.layers import Conv2D, MaxPooling2D, Flatten, Dense, Dropout, BatchNormalization\n",
    "model = Sequential([\n",
    "    # Convolution Layers.\n",
    "    Conv2D(32, (3,3), activation='relu', padding='same', input_shape=(64,64,1)),  \n",
    "    BatchNormalization(),\n",
    "    MaxPooling2D((2,2)),\n",
    "    \n",
    "    Conv2D(64, (3,3), activation='relu', padding='same'),  \n",
    "    BatchNormalization(),\n",
    "    MaxPooling2D((2,2)),\n",
    "    \n",
    "    Conv2D(128, (3,3), activation='relu', padding='same'),  \n",
    "    BatchNormalization(),\n",
    "    MaxPooling2D((2,2)),\n",
    "    \n",
    "    # Flatten Layer.\n",
    "    Flatten(),\n",
    "\n",
    "    # Hidden Layers.\n",
    "    Dense(256, activation='relu'),\n",
    "    BatchNormalization(),\n",
    "    Dropout(0.5),\n",
    "    \n",
    "    # Output Layer.\n",
    "    Dense(655, activation='softmax')\n",
    "])\n",
    "from keras.optimizers import Adam\n",
    "opt = Adam(learning_rate=0.001, beta_1=0.9, beta_2=0.999, epsilon=1e-08)\n",
    "model.compile(optimizer=opt, loss='sparse_categorical_crossentropy', metrics=['accuracy'])"
   ]
  },
  {
   "cell_type": "code",
   "execution_count": 14,
   "id": "20435c50",
   "metadata": {},
   "outputs": [
    {
     "data": {
      "text/html": [
       "<pre style=\"white-space:pre;overflow-x:auto;line-height:normal;font-family:Menlo,'DejaVu Sans Mono',consolas,'Courier New',monospace\"><span style=\"font-weight: bold\">Model: \"sequential\"</span>\n",
       "</pre>\n"
      ],
      "text/plain": [
       "\u001b[1mModel: \"sequential\"\u001b[0m\n"
      ]
     },
     "metadata": {},
     "output_type": "display_data"
    },
    {
     "data": {
      "text/html": [
       "<pre style=\"white-space:pre;overflow-x:auto;line-height:normal;font-family:Menlo,'DejaVu Sans Mono',consolas,'Courier New',monospace\">┏━━━━━━━━━━━━━━━━━━━━━━━━━━━━━━━━━━━━━━┳━━━━━━━━━━━━━━━━━━━━━━━━━━━━━┳━━━━━━━━━━━━━━━━━┓\n",
       "┃<span style=\"font-weight: bold\"> Layer (type)                         </span>┃<span style=\"font-weight: bold\"> Output Shape                </span>┃<span style=\"font-weight: bold\">         Param # </span>┃\n",
       "┡━━━━━━━━━━━━━━━━━━━━━━━━━━━━━━━━━━━━━━╇━━━━━━━━━━━━━━━━━━━━━━━━━━━━━╇━━━━━━━━━━━━━━━━━┩\n",
       "│ conv2d (<span style=\"color: #0087ff; text-decoration-color: #0087ff\">Conv2D</span>)                      │ (<span style=\"color: #00d7ff; text-decoration-color: #00d7ff\">None</span>, <span style=\"color: #00af00; text-decoration-color: #00af00\">64</span>, <span style=\"color: #00af00; text-decoration-color: #00af00\">64</span>, <span style=\"color: #00af00; text-decoration-color: #00af00\">32</span>)          │             <span style=\"color: #00af00; text-decoration-color: #00af00\">320</span> │\n",
       "├──────────────────────────────────────┼─────────────────────────────┼─────────────────┤\n",
       "│ batch_normalization                  │ (<span style=\"color: #00d7ff; text-decoration-color: #00d7ff\">None</span>, <span style=\"color: #00af00; text-decoration-color: #00af00\">64</span>, <span style=\"color: #00af00; text-decoration-color: #00af00\">64</span>, <span style=\"color: #00af00; text-decoration-color: #00af00\">32</span>)          │             <span style=\"color: #00af00; text-decoration-color: #00af00\">128</span> │\n",
       "│ (<span style=\"color: #0087ff; text-decoration-color: #0087ff\">BatchNormalization</span>)                 │                             │                 │\n",
       "├──────────────────────────────────────┼─────────────────────────────┼─────────────────┤\n",
       "│ max_pooling2d (<span style=\"color: #0087ff; text-decoration-color: #0087ff\">MaxPooling2D</span>)         │ (<span style=\"color: #00d7ff; text-decoration-color: #00d7ff\">None</span>, <span style=\"color: #00af00; text-decoration-color: #00af00\">32</span>, <span style=\"color: #00af00; text-decoration-color: #00af00\">32</span>, <span style=\"color: #00af00; text-decoration-color: #00af00\">32</span>)          │               <span style=\"color: #00af00; text-decoration-color: #00af00\">0</span> │\n",
       "├──────────────────────────────────────┼─────────────────────────────┼─────────────────┤\n",
       "│ conv2d_1 (<span style=\"color: #0087ff; text-decoration-color: #0087ff\">Conv2D</span>)                    │ (<span style=\"color: #00d7ff; text-decoration-color: #00d7ff\">None</span>, <span style=\"color: #00af00; text-decoration-color: #00af00\">32</span>, <span style=\"color: #00af00; text-decoration-color: #00af00\">32</span>, <span style=\"color: #00af00; text-decoration-color: #00af00\">64</span>)          │          <span style=\"color: #00af00; text-decoration-color: #00af00\">18,496</span> │\n",
       "├──────────────────────────────────────┼─────────────────────────────┼─────────────────┤\n",
       "│ batch_normalization_1                │ (<span style=\"color: #00d7ff; text-decoration-color: #00d7ff\">None</span>, <span style=\"color: #00af00; text-decoration-color: #00af00\">32</span>, <span style=\"color: #00af00; text-decoration-color: #00af00\">32</span>, <span style=\"color: #00af00; text-decoration-color: #00af00\">64</span>)          │             <span style=\"color: #00af00; text-decoration-color: #00af00\">256</span> │\n",
       "│ (<span style=\"color: #0087ff; text-decoration-color: #0087ff\">BatchNormalization</span>)                 │                             │                 │\n",
       "├──────────────────────────────────────┼─────────────────────────────┼─────────────────┤\n",
       "│ max_pooling2d_1 (<span style=\"color: #0087ff; text-decoration-color: #0087ff\">MaxPooling2D</span>)       │ (<span style=\"color: #00d7ff; text-decoration-color: #00d7ff\">None</span>, <span style=\"color: #00af00; text-decoration-color: #00af00\">16</span>, <span style=\"color: #00af00; text-decoration-color: #00af00\">16</span>, <span style=\"color: #00af00; text-decoration-color: #00af00\">64</span>)          │               <span style=\"color: #00af00; text-decoration-color: #00af00\">0</span> │\n",
       "├──────────────────────────────────────┼─────────────────────────────┼─────────────────┤\n",
       "│ conv2d_2 (<span style=\"color: #0087ff; text-decoration-color: #0087ff\">Conv2D</span>)                    │ (<span style=\"color: #00d7ff; text-decoration-color: #00d7ff\">None</span>, <span style=\"color: #00af00; text-decoration-color: #00af00\">16</span>, <span style=\"color: #00af00; text-decoration-color: #00af00\">16</span>, <span style=\"color: #00af00; text-decoration-color: #00af00\">128</span>)         │          <span style=\"color: #00af00; text-decoration-color: #00af00\">73,856</span> │\n",
       "├──────────────────────────────────────┼─────────────────────────────┼─────────────────┤\n",
       "│ batch_normalization_2                │ (<span style=\"color: #00d7ff; text-decoration-color: #00d7ff\">None</span>, <span style=\"color: #00af00; text-decoration-color: #00af00\">16</span>, <span style=\"color: #00af00; text-decoration-color: #00af00\">16</span>, <span style=\"color: #00af00; text-decoration-color: #00af00\">128</span>)         │             <span style=\"color: #00af00; text-decoration-color: #00af00\">512</span> │\n",
       "│ (<span style=\"color: #0087ff; text-decoration-color: #0087ff\">BatchNormalization</span>)                 │                             │                 │\n",
       "├──────────────────────────────────────┼─────────────────────────────┼─────────────────┤\n",
       "│ max_pooling2d_2 (<span style=\"color: #0087ff; text-decoration-color: #0087ff\">MaxPooling2D</span>)       │ (<span style=\"color: #00d7ff; text-decoration-color: #00d7ff\">None</span>, <span style=\"color: #00af00; text-decoration-color: #00af00\">8</span>, <span style=\"color: #00af00; text-decoration-color: #00af00\">8</span>, <span style=\"color: #00af00; text-decoration-color: #00af00\">128</span>)           │               <span style=\"color: #00af00; text-decoration-color: #00af00\">0</span> │\n",
       "├──────────────────────────────────────┼─────────────────────────────┼─────────────────┤\n",
       "│ flatten (<span style=\"color: #0087ff; text-decoration-color: #0087ff\">Flatten</span>)                    │ (<span style=\"color: #00d7ff; text-decoration-color: #00d7ff\">None</span>, <span style=\"color: #00af00; text-decoration-color: #00af00\">8192</span>)                │               <span style=\"color: #00af00; text-decoration-color: #00af00\">0</span> │\n",
       "├──────────────────────────────────────┼─────────────────────────────┼─────────────────┤\n",
       "│ dense (<span style=\"color: #0087ff; text-decoration-color: #0087ff\">Dense</span>)                        │ (<span style=\"color: #00d7ff; text-decoration-color: #00d7ff\">None</span>, <span style=\"color: #00af00; text-decoration-color: #00af00\">256</span>)                 │       <span style=\"color: #00af00; text-decoration-color: #00af00\">2,097,408</span> │\n",
       "├──────────────────────────────────────┼─────────────────────────────┼─────────────────┤\n",
       "│ batch_normalization_3                │ (<span style=\"color: #00d7ff; text-decoration-color: #00d7ff\">None</span>, <span style=\"color: #00af00; text-decoration-color: #00af00\">256</span>)                 │           <span style=\"color: #00af00; text-decoration-color: #00af00\">1,024</span> │\n",
       "│ (<span style=\"color: #0087ff; text-decoration-color: #0087ff\">BatchNormalization</span>)                 │                             │                 │\n",
       "├──────────────────────────────────────┼─────────────────────────────┼─────────────────┤\n",
       "│ dropout (<span style=\"color: #0087ff; text-decoration-color: #0087ff\">Dropout</span>)                    │ (<span style=\"color: #00d7ff; text-decoration-color: #00d7ff\">None</span>, <span style=\"color: #00af00; text-decoration-color: #00af00\">256</span>)                 │               <span style=\"color: #00af00; text-decoration-color: #00af00\">0</span> │\n",
       "├──────────────────────────────────────┼─────────────────────────────┼─────────────────┤\n",
       "│ dense_1 (<span style=\"color: #0087ff; text-decoration-color: #0087ff\">Dense</span>)                      │ (<span style=\"color: #00d7ff; text-decoration-color: #00d7ff\">None</span>, <span style=\"color: #00af00; text-decoration-color: #00af00\">655</span>)                 │         <span style=\"color: #00af00; text-decoration-color: #00af00\">168,335</span> │\n",
       "└──────────────────────────────────────┴─────────────────────────────┴─────────────────┘\n",
       "</pre>\n"
      ],
      "text/plain": [
       "┏━━━━━━━━━━━━━━━━━━━━━━━━━━━━━━━━━━━━━━┳━━━━━━━━━━━━━━━━━━━━━━━━━━━━━┳━━━━━━━━━━━━━━━━━┓\n",
       "┃\u001b[1m \u001b[0m\u001b[1mLayer (type)                        \u001b[0m\u001b[1m \u001b[0m┃\u001b[1m \u001b[0m\u001b[1mOutput Shape               \u001b[0m\u001b[1m \u001b[0m┃\u001b[1m \u001b[0m\u001b[1m        Param #\u001b[0m\u001b[1m \u001b[0m┃\n",
       "┡━━━━━━━━━━━━━━━━━━━━━━━━━━━━━━━━━━━━━━╇━━━━━━━━━━━━━━━━━━━━━━━━━━━━━╇━━━━━━━━━━━━━━━━━┩\n",
       "│ conv2d (\u001b[38;5;33mConv2D\u001b[0m)                      │ (\u001b[38;5;45mNone\u001b[0m, \u001b[38;5;34m64\u001b[0m, \u001b[38;5;34m64\u001b[0m, \u001b[38;5;34m32\u001b[0m)          │             \u001b[38;5;34m320\u001b[0m │\n",
       "├──────────────────────────────────────┼─────────────────────────────┼─────────────────┤\n",
       "│ batch_normalization                  │ (\u001b[38;5;45mNone\u001b[0m, \u001b[38;5;34m64\u001b[0m, \u001b[38;5;34m64\u001b[0m, \u001b[38;5;34m32\u001b[0m)          │             \u001b[38;5;34m128\u001b[0m │\n",
       "│ (\u001b[38;5;33mBatchNormalization\u001b[0m)                 │                             │                 │\n",
       "├──────────────────────────────────────┼─────────────────────────────┼─────────────────┤\n",
       "│ max_pooling2d (\u001b[38;5;33mMaxPooling2D\u001b[0m)         │ (\u001b[38;5;45mNone\u001b[0m, \u001b[38;5;34m32\u001b[0m, \u001b[38;5;34m32\u001b[0m, \u001b[38;5;34m32\u001b[0m)          │               \u001b[38;5;34m0\u001b[0m │\n",
       "├──────────────────────────────────────┼─────────────────────────────┼─────────────────┤\n",
       "│ conv2d_1 (\u001b[38;5;33mConv2D\u001b[0m)                    │ (\u001b[38;5;45mNone\u001b[0m, \u001b[38;5;34m32\u001b[0m, \u001b[38;5;34m32\u001b[0m, \u001b[38;5;34m64\u001b[0m)          │          \u001b[38;5;34m18,496\u001b[0m │\n",
       "├──────────────────────────────────────┼─────────────────────────────┼─────────────────┤\n",
       "│ batch_normalization_1                │ (\u001b[38;5;45mNone\u001b[0m, \u001b[38;5;34m32\u001b[0m, \u001b[38;5;34m32\u001b[0m, \u001b[38;5;34m64\u001b[0m)          │             \u001b[38;5;34m256\u001b[0m │\n",
       "│ (\u001b[38;5;33mBatchNormalization\u001b[0m)                 │                             │                 │\n",
       "├──────────────────────────────────────┼─────────────────────────────┼─────────────────┤\n",
       "│ max_pooling2d_1 (\u001b[38;5;33mMaxPooling2D\u001b[0m)       │ (\u001b[38;5;45mNone\u001b[0m, \u001b[38;5;34m16\u001b[0m, \u001b[38;5;34m16\u001b[0m, \u001b[38;5;34m64\u001b[0m)          │               \u001b[38;5;34m0\u001b[0m │\n",
       "├──────────────────────────────────────┼─────────────────────────────┼─────────────────┤\n",
       "│ conv2d_2 (\u001b[38;5;33mConv2D\u001b[0m)                    │ (\u001b[38;5;45mNone\u001b[0m, \u001b[38;5;34m16\u001b[0m, \u001b[38;5;34m16\u001b[0m, \u001b[38;5;34m128\u001b[0m)         │          \u001b[38;5;34m73,856\u001b[0m │\n",
       "├──────────────────────────────────────┼─────────────────────────────┼─────────────────┤\n",
       "│ batch_normalization_2                │ (\u001b[38;5;45mNone\u001b[0m, \u001b[38;5;34m16\u001b[0m, \u001b[38;5;34m16\u001b[0m, \u001b[38;5;34m128\u001b[0m)         │             \u001b[38;5;34m512\u001b[0m │\n",
       "│ (\u001b[38;5;33mBatchNormalization\u001b[0m)                 │                             │                 │\n",
       "├──────────────────────────────────────┼─────────────────────────────┼─────────────────┤\n",
       "│ max_pooling2d_2 (\u001b[38;5;33mMaxPooling2D\u001b[0m)       │ (\u001b[38;5;45mNone\u001b[0m, \u001b[38;5;34m8\u001b[0m, \u001b[38;5;34m8\u001b[0m, \u001b[38;5;34m128\u001b[0m)           │               \u001b[38;5;34m0\u001b[0m │\n",
       "├──────────────────────────────────────┼─────────────────────────────┼─────────────────┤\n",
       "│ flatten (\u001b[38;5;33mFlatten\u001b[0m)                    │ (\u001b[38;5;45mNone\u001b[0m, \u001b[38;5;34m8192\u001b[0m)                │               \u001b[38;5;34m0\u001b[0m │\n",
       "├──────────────────────────────────────┼─────────────────────────────┼─────────────────┤\n",
       "│ dense (\u001b[38;5;33mDense\u001b[0m)                        │ (\u001b[38;5;45mNone\u001b[0m, \u001b[38;5;34m256\u001b[0m)                 │       \u001b[38;5;34m2,097,408\u001b[0m │\n",
       "├──────────────────────────────────────┼─────────────────────────────┼─────────────────┤\n",
       "│ batch_normalization_3                │ (\u001b[38;5;45mNone\u001b[0m, \u001b[38;5;34m256\u001b[0m)                 │           \u001b[38;5;34m1,024\u001b[0m │\n",
       "│ (\u001b[38;5;33mBatchNormalization\u001b[0m)                 │                             │                 │\n",
       "├──────────────────────────────────────┼─────────────────────────────┼─────────────────┤\n",
       "│ dropout (\u001b[38;5;33mDropout\u001b[0m)                    │ (\u001b[38;5;45mNone\u001b[0m, \u001b[38;5;34m256\u001b[0m)                 │               \u001b[38;5;34m0\u001b[0m │\n",
       "├──────────────────────────────────────┼─────────────────────────────┼─────────────────┤\n",
       "│ dense_1 (\u001b[38;5;33mDense\u001b[0m)                      │ (\u001b[38;5;45mNone\u001b[0m, \u001b[38;5;34m655\u001b[0m)                 │         \u001b[38;5;34m168,335\u001b[0m │\n",
       "└──────────────────────────────────────┴─────────────────────────────┴─────────────────┘\n"
      ]
     },
     "metadata": {},
     "output_type": "display_data"
    },
    {
     "data": {
      "text/html": [
       "<pre style=\"white-space:pre;overflow-x:auto;line-height:normal;font-family:Menlo,'DejaVu Sans Mono',consolas,'Courier New',monospace\"><span style=\"font-weight: bold\"> Total params: </span><span style=\"color: #00af00; text-decoration-color: #00af00\">2,360,335</span> (9.00 MB)\n",
       "</pre>\n"
      ],
      "text/plain": [
       "\u001b[1m Total params: \u001b[0m\u001b[38;5;34m2,360,335\u001b[0m (9.00 MB)\n"
      ]
     },
     "metadata": {},
     "output_type": "display_data"
    },
    {
     "data": {
      "text/html": [
       "<pre style=\"white-space:pre;overflow-x:auto;line-height:normal;font-family:Menlo,'DejaVu Sans Mono',consolas,'Courier New',monospace\"><span style=\"font-weight: bold\"> Trainable params: </span><span style=\"color: #00af00; text-decoration-color: #00af00\">2,359,375</span> (9.00 MB)\n",
       "</pre>\n"
      ],
      "text/plain": [
       "\u001b[1m Trainable params: \u001b[0m\u001b[38;5;34m2,359,375\u001b[0m (9.00 MB)\n"
      ]
     },
     "metadata": {},
     "output_type": "display_data"
    },
    {
     "data": {
      "text/html": [
       "<pre style=\"white-space:pre;overflow-x:auto;line-height:normal;font-family:Menlo,'DejaVu Sans Mono',consolas,'Courier New',monospace\"><span style=\"font-weight: bold\"> Non-trainable params: </span><span style=\"color: #00af00; text-decoration-color: #00af00\">960</span> (3.75 KB)\n",
       "</pre>\n"
      ],
      "text/plain": [
       "\u001b[1m Non-trainable params: \u001b[0m\u001b[38;5;34m960\u001b[0m (3.75 KB)\n"
      ]
     },
     "metadata": {},
     "output_type": "display_data"
    }
   ],
   "source": [
    "model.summary()"
   ]
  },
  {
   "cell_type": "code",
   "execution_count": 15,
   "id": "c7133ee7",
   "metadata": {},
   "outputs": [],
   "source": [
    "from tensorflow.keras.callbacks import EarlyStopping, ReduceLROnPlateau\n",
    "early_stop = EarlyStopping(monitor='val_loss', patience=10, restore_best_weights=True)\n",
    "reduce_lr = ReduceLROnPlateau(monitor='val_loss', factor=0.2, patience=5, min_lr=0.001)"
   ]
  },
  {
   "cell_type": "code",
   "execution_count": 16,
   "id": "46c4697b",
   "metadata": {},
   "outputs": [],
   "source": [
    "# Data Augmentation\n",
    "from tensorflow.keras.preprocessing.image import ImageDataGenerator\n",
    "datagen = ImageDataGenerator(\n",
    "    rotation_range=10,\n",
    "    zoom_range=0.1,\n",
    "    width_shift_range=0.1,\n",
    "    height_shift_range=0.1,\n",
    ")\n",
    "datagen.fit(X_train)"
   ]
  },
  {
   "cell_type": "code",
   "execution_count": 17,
   "id": "2b53a794",
   "metadata": {},
   "outputs": [
    {
     "name": "stderr",
     "output_type": "stream",
     "text": [
      "C:\\Users\\ranuj\\AppData\\Local\\Programs\\Python\\Python312\\Lib\\site-packages\\keras\\src\\trainers\\data_adapters\\py_dataset_adapter.py:121: UserWarning: Your `PyDataset` class should call `super().__init__(**kwargs)` in its constructor. `**kwargs` can include `workers`, `use_multiprocessing`, `max_queue_size`. Do not pass these arguments to `fit()`, as they will be ignored.\n",
      "  self._warn_if_super_not_called()\n"
     ]
    },
    {
     "name": "stdout",
     "output_type": "stream",
     "text": [
      "Epoch 1/30\n",
      "\u001b[1m408/408\u001b[0m \u001b[32m━━━━━━━━━━━━━━━━━━━━\u001b[0m\u001b[37m\u001b[0m \u001b[1m138s\u001b[0m 309ms/step - accuracy: 0.0051 - loss: 6.5671 - val_accuracy: 0.0018 - val_loss: 8.1984 - learning_rate: 0.0010\n",
      "Epoch 2/30\n",
      "\u001b[1m408/408\u001b[0m \u001b[32m━━━━━━━━━━━━━━━━━━━━\u001b[0m\u001b[37m\u001b[0m \u001b[1m132s\u001b[0m 322ms/step - accuracy: 0.0182 - loss: 5.7609 - val_accuracy: 0.0485 - val_loss: 4.9836 - learning_rate: 0.0010\n",
      "Epoch 3/30\n",
      "\u001b[1m408/408\u001b[0m \u001b[32m━━━━━━━━━━━━━━━━━━━━\u001b[0m\u001b[37m\u001b[0m \u001b[1m127s\u001b[0m 309ms/step - accuracy: 0.0783 - loss: 4.7445 - val_accuracy: 0.2545 - val_loss: 3.2990 - learning_rate: 0.0010\n",
      "Epoch 4/30\n",
      "\u001b[1m408/408\u001b[0m \u001b[32m━━━━━━━━━━━━━━━━━━━━\u001b[0m\u001b[37m\u001b[0m \u001b[1m124s\u001b[0m 304ms/step - accuracy: 0.2372 - loss: 3.3758 - val_accuracy: 0.3669 - val_loss: 2.7845 - learning_rate: 0.0010\n",
      "Epoch 5/30\n",
      "\u001b[1m408/408\u001b[0m \u001b[32m━━━━━━━━━━━━━━━━━━━━\u001b[0m\u001b[37m\u001b[0m \u001b[1m145s\u001b[0m 311ms/step - accuracy: 0.4080 - loss: 2.3427 - val_accuracy: 0.3909 - val_loss: 2.2425 - learning_rate: 0.0010\n",
      "Epoch 6/30\n",
      "\u001b[1m408/408\u001b[0m \u001b[32m━━━━━━━━━━━━━━━━━━━━\u001b[0m\u001b[37m\u001b[0m \u001b[1m142s\u001b[0m 310ms/step - accuracy: 0.5331 - loss: 1.7359 - val_accuracy: 0.6574 - val_loss: 1.3202 - learning_rate: 0.0010\n",
      "Epoch 7/30\n",
      "\u001b[1m408/408\u001b[0m \u001b[32m━━━━━━━━━━━━━━━━━━━━\u001b[0m\u001b[37m\u001b[0m \u001b[1m125s\u001b[0m 307ms/step - accuracy: 0.6283 - loss: 1.3553 - val_accuracy: 0.0031 - val_loss: 136.8589 - learning_rate: 0.0010\n",
      "Epoch 8/30\n",
      "\u001b[1m408/408\u001b[0m \u001b[32m━━━━━━━━━━━━━━━━━━━━\u001b[0m\u001b[37m\u001b[0m \u001b[1m125s\u001b[0m 307ms/step - accuracy: 0.5954 - loss: 1.4495 - val_accuracy: 0.7670 - val_loss: 0.7982 - learning_rate: 0.0010\n",
      "Epoch 9/30\n",
      "\u001b[1m408/408\u001b[0m \u001b[32m━━━━━━━━━━━━━━━━━━━━\u001b[0m\u001b[37m\u001b[0m \u001b[1m128s\u001b[0m 313ms/step - accuracy: 0.7021 - loss: 1.0294 - val_accuracy: 0.7869 - val_loss: 0.7432 - learning_rate: 0.0010\n",
      "Epoch 10/30\n",
      "\u001b[1m408/408\u001b[0m \u001b[32m━━━━━━━━━━━━━━━━━━━━\u001b[0m\u001b[37m\u001b[0m \u001b[1m124s\u001b[0m 304ms/step - accuracy: 0.7427 - loss: 0.8772 - val_accuracy: 0.8093 - val_loss: 0.6545 - learning_rate: 0.0010\n",
      "Epoch 11/30\n",
      "\u001b[1m408/408\u001b[0m \u001b[32m━━━━━━━━━━━━━━━━━━━━\u001b[0m\u001b[37m\u001b[0m \u001b[1m127s\u001b[0m 310ms/step - accuracy: 0.7724 - loss: 0.7793 - val_accuracy: 0.7878 - val_loss: 0.7040 - learning_rate: 0.0010\n",
      "Epoch 12/30\n",
      "\u001b[1m408/408\u001b[0m \u001b[32m━━━━━━━━━━━━━━━━━━━━\u001b[0m\u001b[37m\u001b[0m \u001b[1m128s\u001b[0m 313ms/step - accuracy: 0.7814 - loss: 0.7354 - val_accuracy: 0.8072 - val_loss: 0.6675 - learning_rate: 0.0010\n",
      "Epoch 13/30\n",
      "\u001b[1m408/408\u001b[0m \u001b[32m━━━━━━━━━━━━━━━━━━━━\u001b[0m\u001b[37m\u001b[0m \u001b[1m149s\u001b[0m 330ms/step - accuracy: 0.7979 - loss: 0.6782 - val_accuracy: 0.6755 - val_loss: 1.4710 - learning_rate: 0.0010\n",
      "Epoch 14/30\n",
      "\u001b[1m408/408\u001b[0m \u001b[32m━━━━━━━━━━━━━━━━━━━━\u001b[0m\u001b[37m\u001b[0m \u001b[1m101s\u001b[0m 246ms/step - accuracy: 0.8190 - loss: 0.6088 - val_accuracy: 0.8066 - val_loss: 0.6701 - learning_rate: 0.0010\n",
      "Epoch 15/30\n",
      "\u001b[1m408/408\u001b[0m \u001b[32m━━━━━━━━━━━━━━━━━━━━\u001b[0m\u001b[37m\u001b[0m \u001b[1m84s\u001b[0m 205ms/step - accuracy: 0.8243 - loss: 0.5819 - val_accuracy: 0.7550 - val_loss: 0.8288 - learning_rate: 0.0010\n",
      "Epoch 16/30\n",
      "\u001b[1m408/408\u001b[0m \u001b[32m━━━━━━━━━━━━━━━━━━━━\u001b[0m\u001b[37m\u001b[0m \u001b[1m81s\u001b[0m 200ms/step - accuracy: 0.8170 - loss: 0.6039 - val_accuracy: 0.6650 - val_loss: 1.2979 - learning_rate: 0.0010\n",
      "Epoch 17/30\n",
      "\u001b[1m408/408\u001b[0m \u001b[32m━━━━━━━━━━━━━━━━━━━━\u001b[0m\u001b[37m\u001b[0m \u001b[1m81s\u001b[0m 199ms/step - accuracy: 0.7971 - loss: 0.6755 - val_accuracy: 0.7799 - val_loss: 0.7647 - learning_rate: 0.0010\n",
      "Epoch 18/30\n",
      "\u001b[1m408/408\u001b[0m \u001b[32m━━━━━━━━━━━━━━━━━━━━\u001b[0m\u001b[37m\u001b[0m \u001b[1m81s\u001b[0m 199ms/step - accuracy: 0.8239 - loss: 0.5726 - val_accuracy: 0.8499 - val_loss: 0.5094 - learning_rate: 0.0010\n",
      "Epoch 19/30\n",
      "\u001b[1m408/408\u001b[0m \u001b[32m━━━━━━━━━━━━━━━━━━━━\u001b[0m\u001b[37m\u001b[0m \u001b[1m84s\u001b[0m 206ms/step - accuracy: 0.8220 - loss: 0.5883 - val_accuracy: 0.8136 - val_loss: 0.5965 - learning_rate: 0.0010\n",
      "Epoch 20/30\n",
      "\u001b[1m408/408\u001b[0m \u001b[32m━━━━━━━━━━━━━━━━━━━━\u001b[0m\u001b[37m\u001b[0m \u001b[1m86s\u001b[0m 211ms/step - accuracy: 0.8063 - loss: 0.6341 - val_accuracy: 0.8161 - val_loss: 0.5959 - learning_rate: 0.0010\n",
      "Epoch 21/30\n",
      "\u001b[1m408/408\u001b[0m \u001b[32m━━━━━━━━━━━━━━━━━━━━\u001b[0m\u001b[37m\u001b[0m \u001b[1m85s\u001b[0m 209ms/step - accuracy: 0.8210 - loss: 0.5727 - val_accuracy: 0.8692 - val_loss: 0.4291 - learning_rate: 0.0010\n",
      "Epoch 22/30\n",
      "\u001b[1m408/408\u001b[0m \u001b[32m━━━━━━━━━━━━━━━━━━━━\u001b[0m\u001b[37m\u001b[0m \u001b[1m87s\u001b[0m 213ms/step - accuracy: 0.8332 - loss: 0.5247 - val_accuracy: 0.8287 - val_loss: 0.5803 - learning_rate: 0.0010\n",
      "Epoch 23/30\n",
      "\u001b[1m408/408\u001b[0m \u001b[32m━━━━━━━━━━━━━━━━━━━━\u001b[0m\u001b[37m\u001b[0m \u001b[1m85s\u001b[0m 207ms/step - accuracy: 0.8527 - loss: 0.4646 - val_accuracy: 0.8087 - val_loss: 0.6773 - learning_rate: 0.0010\n",
      "Epoch 24/30\n",
      "\u001b[1m408/408\u001b[0m \u001b[32m━━━━━━━━━━━━━━━━━━━━\u001b[0m\u001b[37m\u001b[0m \u001b[1m85s\u001b[0m 208ms/step - accuracy: 0.8602 - loss: 0.4556 - val_accuracy: 0.8391 - val_loss: 0.5541 - learning_rate: 0.0010\n",
      "Epoch 25/30\n",
      "\u001b[1m408/408\u001b[0m \u001b[32m━━━━━━━━━━━━━━━━━━━━\u001b[0m\u001b[37m\u001b[0m \u001b[1m86s\u001b[0m 210ms/step - accuracy: 0.8647 - loss: 0.4232 - val_accuracy: 0.7274 - val_loss: 1.0020 - learning_rate: 0.0010\n",
      "Epoch 26/30\n",
      "\u001b[1m408/408\u001b[0m \u001b[32m━━━━━━━━━━━━━━━━━━━━\u001b[0m\u001b[37m\u001b[0m \u001b[1m85s\u001b[0m 209ms/step - accuracy: 0.8664 - loss: 0.4421 - val_accuracy: 0.8357 - val_loss: 0.5668 - learning_rate: 0.0010\n",
      "Epoch 27/30\n",
      "\u001b[1m408/408\u001b[0m \u001b[32m━━━━━━━━━━━━━━━━━━━━\u001b[0m\u001b[37m\u001b[0m \u001b[1m124s\u001b[0m 304ms/step - accuracy: 0.8734 - loss: 0.4046 - val_accuracy: 0.7700 - val_loss: 0.8271 - learning_rate: 0.0010\n",
      "Epoch 28/30\n",
      "\u001b[1m408/408\u001b[0m \u001b[32m━━━━━━━━━━━━━━━━━━━━\u001b[0m\u001b[37m\u001b[0m \u001b[1m135s\u001b[0m 328ms/step - accuracy: 0.8682 - loss: 0.4311 - val_accuracy: 0.7722 - val_loss: 0.8089 - learning_rate: 0.0010\n",
      "Epoch 29/30\n",
      "\u001b[1m408/408\u001b[0m \u001b[32m━━━━━━━━━━━━━━━━━━━━\u001b[0m\u001b[37m\u001b[0m \u001b[1m124s\u001b[0m 303ms/step - accuracy: 0.8747 - loss: 0.4092 - val_accuracy: 0.0120 - val_loss: 70.3547 - learning_rate: 0.0010\n",
      "Epoch 30/30\n",
      "\u001b[1m408/408\u001b[0m \u001b[32m━━━━━━━━━━━━━━━━━━━━\u001b[0m\u001b[37m\u001b[0m \u001b[1m126s\u001b[0m 310ms/step - accuracy: 0.7248 - loss: 0.9770 - val_accuracy: 0.8569 - val_loss: 0.4699 - learning_rate: 0.0010\n"
     ]
    }
   ],
   "source": [
    "# Train the CNN Model.\n",
    "history = model.fit(datagen.flow(X_train, y_train, batch_size=32), epochs=30, validation_data=(X_test, y_test), callbacks=[early_stop, reduce_lr])"
   ]
  },
  {
   "cell_type": "code",
   "execution_count": 18,
   "id": "396c2ef9",
   "metadata": {},
   "outputs": [
    {
     "data": {
      "image/png": "[encoded data removed]",
      "text/plain": [
       "<Figure size 1000x500 with 1 Axes>"
      ]
     },
     "metadata": {},
     "output_type": "display_data"
    }
   ],
   "source": [
    "# Model Training Progress\n",
    "import matplotlib.pyplot as plt\n",
    "plt.figure(figsize=(10,5))\n",
    "plt.plot(history.history['accuracy'], label=\"Train Accuracy\")\n",
    "plt.plot(history.history['val_accuracy'], label=\"Validation Accuracy\")\n",
    "plt.xlabel(\"Epochs\")\n",
    "plt.ylabel(\"Accuracy\")\n",
    "plt.legend()\n",
    "plt.title(\"Training vs Validation Accuracy\")\n",
    "plt.show()"
   ]
  },
  {
   "cell_type": "code",
   "execution_count": 19,
   "id": "b8016bde",
   "metadata": {},
   "outputs": [
    {
     "name": "stdout",
     "output_type": "stream",
     "text": [
      "\u001b[1m102/102\u001b[0m \u001b[32m━━━━━━━━━━━━━━━━━━━━\u001b[0m\u001b[37m\u001b[0m \u001b[1m9s\u001b[0m 79ms/step\n",
      "0.869204789683758\n"
     ]
    }
   ],
   "source": [
    "y_pred = model.predict(X_test)\n",
    "y_pred_classes = np.argmax(y_pred, axis=1)\n",
    "from sklearn.metrics import accuracy_score\n",
    "cnn_accuracy = accuracy_score(y_pred_classes, y_test)\n",
    "print(cnn_accuracy)"
   ]
  },
  {
   "cell_type": "code",
   "execution_count": 20,
   "id": "12c38325",
   "metadata": {},
   "outputs": [
    {
     "name": "stderr",
     "output_type": "stream",
     "text": [
      "WARNING:absl:You are saving your model as an HDF5 file via `model.save()` or `keras.saving.save_model(model)`. This file format is considered legacy. We recommend using instead the native Keras format, e.g. `model.save('my_model.keras')` or `keras.saving.save_model(model, 'my_model.keras')`. \n"
     ]
    }
   ],
   "source": [
    "model.save('cnn.h5')"
   ]
  },
  {
   "cell_type": "markdown",
   "id": "57e1e12a",
   "metadata": {},
   "source": [
    "## Feature Extraction"
   ]
  },
  {
   "cell_type": "code",
   "execution_count": 21,
   "id": "4375fee6",
   "metadata": {},
   "outputs": [
    {
     "name": "stderr",
     "output_type": "stream",
     "text": [
      "C:\\Users\\ranuj\\AppData\\Local\\Programs\\Python\\Python312\\Lib\\site-packages\\keras\\src\\models\\functional.py:237: UserWarning: The structure of `inputs` doesn't match the expected structure.\n",
      "Expected: ['keras_tensor']\n",
      "Received: inputs=Tensor(shape=(32, 64, 64, 1))\n",
      "  warnings.warn(msg)\n"
     ]
    },
    {
     "name": "stdout",
     "output_type": "stream",
     "text": [
      "\u001b[1m407/408\u001b[0m \u001b[32m━━━━━━━━━━━━━━━━━━━\u001b[0m\u001b[37m━\u001b[0m \u001b[1m0s\u001b[0m 58ms/step"
     ]
    },
    {
     "name": "stderr",
     "output_type": "stream",
     "text": [
      "C:\\Users\\ranuj\\AppData\\Local\\Programs\\Python\\Python312\\Lib\\site-packages\\keras\\src\\models\\functional.py:237: UserWarning: The structure of `inputs` doesn't match the expected structure.\n",
      "Expected: ['keras_tensor']\n",
      "Received: inputs=Tensor(shape=(None, 64, 64, 1))\n",
      "  warnings.warn(msg)\n"
     ]
    },
    {
     "name": "stdout",
     "output_type": "stream",
     "text": [
      "\u001b[1m408/408\u001b[0m \u001b[32m━━━━━━━━━━━━━━━━━━━━\u001b[0m\u001b[37m\u001b[0m \u001b[1m26s\u001b[0m 59ms/step\n",
      "\u001b[1m102/102\u001b[0m \u001b[32m━━━━━━━━━━━━━━━━━━━━\u001b[0m\u001b[37m\u001b[0m \u001b[1m6s\u001b[0m 55ms/step\n"
     ]
    }
   ],
   "source": [
    "from tensorflow.keras.models import Model\n",
    "feature_extractor = Model(inputs=model.inputs, outputs=model.get_layer(index=9).output)\n",
    "X_train_features = feature_extractor.predict(X_train)\n",
    "X_test_features = feature_extractor.predict(X_test)"
   ]
  },
  {
   "cell_type": "markdown",
   "id": "6cd312c2",
   "metadata": {},
   "source": [
    "## KNN Implementation"
   ]
  },
  {
   "cell_type": "code",
   "execution_count": 22,
   "id": "5901be20",
   "metadata": {},
   "outputs": [
    {
     "name": "stdout",
     "output_type": "stream",
     "text": [
      "KNN Accuracy: 0.16610377648142463\n"
     ]
    }
   ],
   "source": [
    "from sklearn.neighbors import KNeighborsClassifier\n",
    "from sklearn.metrics import accuracy_score\n",
    "knn = KNeighborsClassifier()\n",
    "knn.fit(X_train_features, y_train)\n",
    "y_pred_knn = knn.predict(X_test_features)\n",
    "accuracy_knn = accuracy_score(y_test, y_pred_knn)\n",
    "print(f\"KNN Accuracy: {accuracy_knn}\")"
   ]
  },
  {
   "cell_type": "markdown",
   "id": "921ead20",
   "metadata": {},
   "source": [
    "## SVM Implementation"
   ]
  },
  {
   "cell_type": "code",
   "execution_count": 23,
   "id": "a4433b84",
   "metadata": {},
   "outputs": [],
   "source": [
    "from sklearn.decomposition import PCA\n",
    "pca = PCA(n_components=50)\n",
    "X_train_pca = pca.fit_transform(X_train_features)\n",
    "X_test_pca = pca.transform(X_test_features)"
   ]
  },
  {
   "cell_type": "code",
   "execution_count": 24,
   "id": "a47cf9a8",
   "metadata": {},
   "outputs": [
    {
     "name": "stdout",
     "output_type": "stream",
     "text": [
      "SVM Accuracy: 0.5701565858151674\n"
     ]
    }
   ],
   "source": [
    "from sklearn.svm import SVC\n",
    "from sklearn.metrics import accuracy_score\n",
    "svm = SVC(kernel='linear')\n",
    "svm.fit(X_train_pca, y_train)\n",
    "y_pred_svm = svm.predict(X_test_pca)\n",
    "accuracy_svm = accuracy_score(y_test, y_pred_svm)\n",
    "print(f\"SVM Accuracy: {accuracy_svm}\")"
   ]
  },
  {
   "cell_type": "code",
   "execution_count": 25,
   "id": "1e152368",
   "metadata": {},
   "outputs": [
    {
     "data": {
      "image/png": "[encoded data removed]",
      "text/plain": [
       "<Figure size 640x480 with 1 Axes>"
      ]
     },
     "metadata": {},
     "output_type": "display_data"
    }
   ],
   "source": [
    "# Model Comparison.\n",
    "import matplotlib.pyplot as plt\n",
    "models = ['CNN', 'KNN', 'SVM']\n",
    "accuracy = [cnn_accuracy, accuracy_knn, accuracy_svm]\n",
    "plt.bar(models, accuracy, color=['blue', 'orange', 'green'])\n",
    "plt.xlabel(\"Model\")\n",
    "plt.ylabel(\"Accuracy (%)\")\n",
    "plt.title(\"Model Performance Comparison\")\n",
    "plt.show()"
   ]
  },
  {
   "cell_type": "code",
   "execution_count": 30,
   "id": "5815ee8e",
   "metadata": {},
   "outputs": [
    {
     "name": "stdout",
     "output_type": "stream",
     "text": [
      "[[1 1 0 ... 0 0 0]\n",
      " [1 5 0 ... 0 0 0]\n",
      " [0 0 4 ... 0 0 0]\n",
      " ...\n",
      " [0 0 0 ... 5 0 0]\n",
      " [0 0 0 ... 0 6 0]\n",
      " [0 0 0 ... 0 0 8]]\n"
     ]
    }
   ],
   "source": [
    "# Confusion Matrix.\n",
    "from sklearn.metrics import confusion_matrix, classification_report\n",
    "cm = confusion_matrix(y_test, y_pred_classes)\n",
    "print(cm)"
   ]
  },
  {
   "cell_type": "code",
   "execution_count": 31,
   "id": "1ad99c3b",
   "metadata": {},
   "outputs": [
    {
     "name": "stderr",
     "output_type": "stream",
     "text": [
      "C:\\Users\\ranuj\\AppData\\Local\\Programs\\Python\\Python312\\Lib\\site-packages\\sklearn\\metrics\\_classification.py:1531: UndefinedMetricWarning: Precision is ill-defined and being set to 0.0 in labels with no predicted samples. Use `zero_division` parameter to control this behavior.\n",
      "  _warn_prf(average, modifier, f\"{metric.capitalize()} is\", len(result))\n",
      "C:\\Users\\ranuj\\AppData\\Local\\Programs\\Python\\Python312\\Lib\\site-packages\\sklearn\\metrics\\_classification.py:1531: UndefinedMetricWarning: Precision is ill-defined and being set to 0.0 in labels with no predicted samples. Use `zero_division` parameter to control this behavior.\n",
      "  _warn_prf(average, modifier, f\"{metric.capitalize()} is\", len(result))\n"
     ]
    },
    {
     "name": "stdout",
     "output_type": "stream",
     "text": [
      "              precision    recall  f1-score   support\n",
      "\n",
      "           0       0.50      0.50      0.50         2\n",
      "           1       0.83      0.83      0.83         6\n",
      "           2       0.80      0.67      0.73         6\n",
      "           3       0.86      1.00      0.92         6\n",
      "           4       1.00      1.00      1.00         2\n",
      "           5       1.00      1.00      1.00         6\n",
      "           6       0.80      0.80      0.80         5\n",
      "           7       1.00      0.88      0.93         8\n",
      "           8       1.00      0.71      0.83         7\n",
      "           9       0.71      0.83      0.77         6\n",
      "          10       1.00      1.00      1.00         4\n",
      "          11       1.00      0.40      0.57         5\n",
      "          12       1.00      1.00      1.00         2\n",
      "          13       1.00      0.67      0.80         3\n",
      "          14       1.00      1.00      1.00         3\n",
      "          15       1.00      1.00      1.00         4\n",
      "          16       0.50      0.50      0.50         2\n",
      "          17       1.00      0.80      0.89         5\n",
      "          18       1.00      0.91      0.95        11\n",
      "          19       1.00      1.00      1.00         4\n",
      "          20       1.00      0.80      0.89         5\n",
      "          21       1.00      1.00      1.00         8\n",
      "          22       0.57      1.00      0.73         4\n",
      "          23       1.00      1.00      1.00         2\n",
      "          24       0.50      0.25      0.33         4\n",
      "          25       1.00      1.00      1.00         5\n",
      "          26       0.60      1.00      0.75         3\n",
      "          27       0.75      1.00      0.86         3\n",
      "          28       1.00      1.00      1.00         3\n",
      "          29       1.00      1.00      1.00         3\n",
      "          30       1.00      1.00      1.00         4\n",
      "          31       1.00      0.60      0.75         5\n",
      "          32       0.80      0.57      0.67         7\n",
      "          33       0.71      1.00      0.83         5\n",
      "          34       1.00      0.33      0.50         3\n",
      "          35       1.00      1.00      1.00         6\n",
      "          36       1.00      1.00      1.00         3\n",
      "          37       1.00      0.86      0.92         7\n",
      "          38       0.75      0.75      0.75         8\n",
      "          39       0.71      1.00      0.83         5\n",
      "          40       0.88      0.78      0.82         9\n",
      "          41       0.43      0.75      0.55         4\n",
      "          42       1.00      1.00      1.00         7\n",
      "          43       0.86      0.86      0.86         7\n",
      "          44       0.88      1.00      0.93         7\n",
      "          45       0.83      0.83      0.83         6\n",
      "          46       0.88      0.78      0.82         9\n",
      "          47       1.00      1.00      1.00         6\n",
      "          48       1.00      0.80      0.89         5\n",
      "          49       1.00      0.80      0.89         5\n",
      "          50       1.00      1.00      1.00         1\n",
      "          51       1.00      1.00      1.00         3\n",
      "          52       1.00      1.00      1.00         3\n",
      "          53       1.00      1.00      1.00         2\n",
      "          54       1.00      1.00      1.00         5\n",
      "          55       1.00      0.86      0.92         7\n",
      "          56       1.00      1.00      1.00         8\n",
      "          57       0.83      1.00      0.91         5\n",
      "          58       1.00      0.73      0.84        11\n",
      "          59       1.00      1.00      1.00         2\n",
      "          60       1.00      0.83      0.91         6\n",
      "          61       1.00      1.00      1.00         3\n",
      "          62       1.00      1.00      1.00         3\n",
      "          63       1.00      1.00      1.00         3\n",
      "          64       1.00      1.00      1.00         4\n",
      "          65       1.00      1.00      1.00         6\n",
      "          66       1.00      1.00      1.00         5\n",
      "          67       0.33      0.50      0.40         6\n",
      "          68       1.00      1.00      1.00         2\n",
      "          69       0.75      1.00      0.86         6\n",
      "          70       1.00      1.00      1.00         6\n",
      "          71       0.33      1.00      0.50         2\n",
      "          72       0.67      0.67      0.67         3\n",
      "          73       0.57      1.00      0.73         4\n",
      "          74       0.40      1.00      0.57         4\n",
      "          75       0.40      0.67      0.50         3\n",
      "          76       0.67      1.00      0.80         4\n",
      "          77       0.86      1.00      0.92         6\n",
      "          78       0.83      1.00      0.91         5\n",
      "          79       0.89      1.00      0.94         8\n",
      "          80       1.00      0.86      0.92         7\n",
      "          81       0.50      0.33      0.40         6\n",
      "          82       1.00      0.75      0.86         4\n",
      "          83       0.50      1.00      0.67         2\n",
      "          84       1.00      0.43      0.60         7\n",
      "          85       1.00      1.00      1.00         5\n",
      "          86       0.70      0.88      0.78         8\n",
      "          87       0.50      1.00      0.67         3\n",
      "          88       0.50      0.33      0.40         3\n",
      "          89       1.00      1.00      1.00         5\n",
      "          90       1.00      0.67      0.80         6\n",
      "          91       0.80      0.80      0.80         5\n",
      "          92       1.00      0.86      0.92         7\n",
      "          93       1.00      0.20      0.33         5\n",
      "          94       0.60      0.75      0.67         4\n",
      "          95       1.00      1.00      1.00         6\n",
      "          96       0.78      1.00      0.88         7\n",
      "          97       0.67      1.00      0.80         2\n",
      "          98       1.00      1.00      1.00         3\n",
      "          99       1.00      1.00      1.00         7\n",
      "         100       1.00      0.67      0.80         6\n",
      "         101       0.75      1.00      0.86         6\n",
      "         102       1.00      0.57      0.73         7\n",
      "         103       0.57      1.00      0.73         4\n",
      "         104       0.88      1.00      0.93         7\n",
      "         105       0.80      1.00      0.89         4\n",
      "         106       0.75      1.00      0.86         6\n",
      "         107       0.80      1.00      0.89         4\n",
      "         108       1.00      1.00      1.00         2\n",
      "         109       1.00      1.00      1.00         2\n",
      "         110       1.00      1.00      1.00         5\n",
      "         111       0.88      0.88      0.88         8\n",
      "         112       0.86      1.00      0.92         6\n",
      "         113       1.00      0.89      0.94         9\n",
      "         114       0.33      1.00      0.50         3\n",
      "         115       1.00      0.57      0.73         7\n",
      "         116       1.00      0.83      0.91         6\n",
      "         117       0.83      1.00      0.91         5\n",
      "         118       1.00      0.67      0.80         3\n",
      "         119       1.00      1.00      1.00         1\n",
      "         120       0.86      1.00      0.92         6\n",
      "         121       1.00      0.88      0.93         8\n",
      "         122       0.70      1.00      0.82         7\n",
      "         123       1.00      1.00      1.00         6\n",
      "         124       0.80      1.00      0.89         4\n",
      "         125       1.00      1.00      1.00         2\n",
      "         126       1.00      0.78      0.88         9\n",
      "         127       1.00      0.80      0.89         5\n",
      "         128       0.83      0.83      0.83         6\n",
      "         129       0.75      1.00      0.86         3\n",
      "         130       1.00      1.00      1.00         4\n",
      "         131       1.00      1.00      1.00         4\n",
      "         132       1.00      1.00      1.00         4\n",
      "         133       1.00      1.00      1.00         5\n",
      "         134       1.00      1.00      1.00         7\n",
      "         135       0.71      1.00      0.83         5\n",
      "         136       1.00      1.00      1.00         5\n",
      "         137       1.00      0.80      0.89         5\n",
      "         138       0.57      0.67      0.62         6\n",
      "         139       1.00      1.00      1.00         3\n",
      "         140       1.00      1.00      1.00         7\n",
      "         141       0.80      1.00      0.89         4\n",
      "         142       0.86      1.00      0.92         6\n",
      "         143       0.88      1.00      0.93         7\n",
      "         144       0.50      1.00      0.67         3\n",
      "         145       1.00      0.75      0.86         4\n",
      "         146       1.00      1.00      1.00         5\n",
      "         147       1.00      0.67      0.80         3\n",
      "         148       0.00      0.00      0.00         2\n",
      "         149       1.00      1.00      1.00         5\n",
      "         150       1.00      1.00      1.00         3\n",
      "         151       0.75      1.00      0.86         3\n",
      "         152       1.00      0.50      0.67         4\n",
      "         153       0.50      1.00      0.67         1\n",
      "         154       1.00      0.75      0.86         4\n",
      "         155       1.00      1.00      1.00         2\n",
      "         156       1.00      0.80      0.89         5\n",
      "         157       1.00      1.00      1.00         6\n",
      "         158       0.80      1.00      0.89         4\n",
      "         159       0.67      0.67      0.67         3\n",
      "         160       1.00      1.00      1.00         2\n",
      "         161       1.00      0.50      0.67         2\n",
      "         162       1.00      0.83      0.91         6\n",
      "         163       1.00      1.00      1.00         3\n",
      "         164       1.00      1.00      1.00         5\n",
      "         165       1.00      1.00      1.00         5\n",
      "         166       1.00      1.00      1.00         1\n",
      "         167       1.00      1.00      1.00         4\n",
      "         168       1.00      1.00      1.00         1\n",
      "         169       0.67      1.00      0.80         4\n",
      "         170       0.67      0.80      0.73         5\n",
      "         171       1.00      0.67      0.80         9\n",
      "         172       0.44      0.80      0.57         5\n",
      "         173       0.20      0.17      0.18         6\n",
      "         174       0.71      0.83      0.77         6\n",
      "         175       0.50      1.00      0.67         4\n",
      "         176       1.00      0.67      0.80         9\n",
      "         177       1.00      0.67      0.80         6\n",
      "         178       1.00      0.33      0.50         9\n",
      "         179       0.43      0.38      0.40         8\n",
      "         180       1.00      1.00      1.00         2\n",
      "         181       1.00      1.00      1.00         6\n",
      "         182       0.88      1.00      0.93         7\n",
      "         183       0.67      1.00      0.80         2\n",
      "         184       1.00      0.60      0.75         5\n",
      "         185       1.00      1.00      1.00         3\n",
      "         186       0.75      0.75      0.75         4\n",
      "         187       0.80      1.00      0.89         4\n",
      "         188       1.00      1.00      1.00         5\n",
      "         189       1.00      0.86      0.92         7\n",
      "         190       0.80      1.00      0.89         4\n",
      "         191       1.00      0.80      0.89         5\n",
      "         192       1.00      0.83      0.91         6\n",
      "         193       1.00      0.67      0.80         3\n",
      "         194       1.00      1.00      1.00         8\n",
      "         195       1.00      1.00      1.00         1\n",
      "         196       1.00      0.62      0.77         8\n",
      "         197       0.83      1.00      0.91         5\n",
      "         198       0.62      1.00      0.77         5\n",
      "         199       0.80      1.00      0.89         4\n",
      "         200       0.80      1.00      0.89         4\n",
      "         201       1.00      1.00      1.00         5\n",
      "         202       1.00      1.00      1.00         5\n",
      "         203       1.00      1.00      1.00         5\n",
      "         204       1.00      1.00      1.00         6\n",
      "         205       1.00      0.75      0.86         4\n",
      "         206       1.00      1.00      1.00         6\n",
      "         207       1.00      1.00      1.00         4\n",
      "         208       1.00      1.00      1.00         1\n",
      "         209       1.00      0.88      0.93         8\n",
      "         210       1.00      0.75      0.86         4\n",
      "         211       1.00      0.83      0.91        12\n",
      "         212       1.00      1.00      1.00         4\n",
      "         213       1.00      1.00      1.00         8\n",
      "         214       1.00      0.67      0.80         6\n",
      "         215       0.80      0.89      0.84         9\n",
      "         216       1.00      0.80      0.89         5\n",
      "         217       1.00      1.00      1.00         6\n",
      "         218       1.00      1.00      1.00         5\n",
      "         219       0.86      1.00      0.92         6\n",
      "         220       0.75      1.00      0.86         9\n",
      "         221       1.00      1.00      1.00         5\n",
      "         222       1.00      0.83      0.91         6\n",
      "         223       1.00      1.00      1.00         7\n",
      "         224       0.57      1.00      0.73         4\n",
      "         225       1.00      1.00      1.00         6\n",
      "         226       0.83      1.00      0.91         5\n",
      "         227       0.88      1.00      0.93         7\n",
      "         228       1.00      1.00      1.00         2\n",
      "         229       1.00      1.00      1.00         7\n",
      "         230       0.83      0.83      0.83         6\n",
      "         231       0.64      1.00      0.78         7\n",
      "         232       1.00      1.00      1.00         9\n",
      "         233       0.90      1.00      0.95         9\n",
      "         234       1.00      0.80      0.89         5\n",
      "         235       1.00      0.83      0.91         6\n",
      "         236       1.00      1.00      1.00         7\n",
      "         237       1.00      1.00      1.00         2\n",
      "         238       1.00      1.00      1.00         4\n",
      "         239       1.00      1.00      1.00         6\n",
      "         240       0.75      1.00      0.86         3\n",
      "         241       0.75      1.00      0.86         6\n",
      "         242       0.83      1.00      0.91         5\n",
      "         243       0.83      1.00      0.91         5\n",
      "         244       1.00      0.80      0.89         5\n",
      "         245       1.00      1.00      1.00         5\n",
      "         246       0.67      1.00      0.80         2\n",
      "         247       0.83      0.71      0.77         7\n",
      "         248       0.83      1.00      0.91         5\n",
      "         249       1.00      0.75      0.86         4\n",
      "         250       1.00      1.00      1.00         9\n",
      "         251       0.86      1.00      0.92         6\n",
      "         252       1.00      1.00      1.00         1\n",
      "         253       1.00      1.00      1.00         3\n",
      "         254       1.00      1.00      1.00         6\n",
      "         255       0.60      1.00      0.75         3\n",
      "         256       1.00      1.00      1.00         6\n",
      "         257       1.00      0.71      0.83         7\n",
      "         258       1.00      0.80      0.89         5\n",
      "         259       1.00      1.00      1.00         3\n",
      "         260       1.00      1.00      1.00         5\n",
      "         261       1.00      0.75      0.86         4\n",
      "         262       1.00      1.00      1.00         6\n",
      "         263       0.67      1.00      0.80         2\n",
      "         264       0.80      1.00      0.89         4\n",
      "         265       0.86      1.00      0.92         6\n",
      "         266       1.00      0.88      0.93         8\n",
      "         267       0.75      1.00      0.86         3\n",
      "         268       0.83      1.00      0.91         5\n",
      "         269       1.00      1.00      1.00         5\n",
      "         270       1.00      1.00      1.00         5\n",
      "         272       0.83      1.00      0.91         5\n",
      "         273       1.00      0.80      0.89         5\n",
      "         274       1.00      0.86      0.92         7\n",
      "         275       1.00      1.00      1.00         6\n",
      "         276       1.00      0.67      0.80         3\n",
      "         277       1.00      1.00      1.00         4\n",
      "         278       0.82      1.00      0.90         9\n",
      "         279       0.75      1.00      0.86         3\n",
      "         280       1.00      0.88      0.93         8\n",
      "         281       1.00      0.89      0.94         9\n",
      "         282       0.50      0.33      0.40         3\n",
      "         283       1.00      1.00      1.00         4\n",
      "         284       1.00      0.86      0.92         7\n",
      "         285       1.00      1.00      1.00         2\n",
      "         287       0.50      1.00      0.67         1\n",
      "         288       1.00      1.00      1.00         5\n",
      "         289       1.00      1.00      1.00         7\n",
      "         290       1.00      1.00      1.00         5\n",
      "         291       0.80      0.80      0.80         5\n",
      "         292       1.00      1.00      1.00         4\n",
      "         293       1.00      0.86      0.92         7\n",
      "         294       1.00      0.80      0.89         5\n",
      "         295       0.83      1.00      0.91         5\n",
      "         296       0.67      1.00      0.80         4\n",
      "         297       1.00      1.00      1.00         2\n",
      "         298       1.00      1.00      1.00         3\n",
      "         299       1.00      0.71      0.83         7\n",
      "         300       1.00      1.00      1.00         5\n",
      "         301       1.00      0.67      0.80         6\n",
      "         302       1.00      1.00      1.00         3\n",
      "         303       1.00      1.00      1.00         4\n",
      "         304       1.00      1.00      1.00         5\n",
      "         305       1.00      0.73      0.84        11\n",
      "         306       1.00      1.00      1.00         3\n",
      "         307       1.00      1.00      1.00         3\n",
      "         308       1.00      1.00      1.00         4\n",
      "         309       1.00      0.83      0.91         6\n",
      "         310       0.67      1.00      0.80         4\n",
      "         311       1.00      0.75      0.86         4\n",
      "         312       1.00      1.00      1.00         5\n",
      "         313       1.00      0.67      0.80         6\n",
      "         314       1.00      1.00      1.00         5\n",
      "         315       1.00      1.00      1.00         5\n",
      "         316       0.83      1.00      0.91         5\n",
      "         317       1.00      1.00      1.00         3\n",
      "         318       0.83      0.83      0.83         6\n",
      "         319       0.67      1.00      0.80         4\n",
      "         320       0.67      0.67      0.67         3\n",
      "         321       1.00      0.83      0.91         6\n",
      "         322       1.00      1.00      1.00         4\n",
      "         323       1.00      1.00      1.00         8\n",
      "         324       1.00      1.00      1.00         5\n",
      "         325       1.00      0.67      0.80         3\n",
      "         326       1.00      0.80      0.89         5\n",
      "         327       1.00      1.00      1.00         5\n",
      "         328       0.86      1.00      0.92         6\n",
      "         329       0.00      0.00      0.00         1\n",
      "         330       1.00      1.00      1.00         2\n",
      "         331       1.00      0.88      0.93         8\n",
      "         332       1.00      1.00      1.00         2\n",
      "         333       1.00      1.00      1.00         8\n",
      "         334       1.00      1.00      1.00         5\n",
      "         335       0.33      0.50      0.40         2\n",
      "         336       1.00      0.80      0.89         5\n",
      "         337       1.00      1.00      1.00         7\n",
      "         338       1.00      1.00      1.00         2\n",
      "         339       1.00      1.00      1.00         4\n",
      "         340       1.00      0.50      0.67         2\n",
      "         341       1.00      0.67      0.80         6\n",
      "         342       0.83      0.62      0.71         8\n",
      "         343       1.00      0.50      0.67         4\n",
      "         344       0.89      1.00      0.94         8\n",
      "         345       0.75      1.00      0.86         3\n",
      "         346       1.00      1.00      1.00         5\n",
      "         347       1.00      0.60      0.75         5\n",
      "         348       1.00      1.00      1.00         7\n",
      "         349       1.00      1.00      1.00         6\n",
      "         350       1.00      0.71      0.83         7\n",
      "         351       1.00      1.00      1.00         2\n",
      "         352       0.75      1.00      0.86         6\n",
      "         353       1.00      0.75      0.86         4\n",
      "         354       1.00      1.00      1.00         2\n",
      "         355       1.00      0.75      0.86         8\n",
      "         356       0.60      1.00      0.75         3\n",
      "         357       1.00      1.00      1.00         4\n",
      "         358       1.00      0.50      0.67         4\n",
      "         359       1.00      0.86      0.92         7\n",
      "         360       1.00      0.88      0.93         8\n",
      "         361       0.67      0.67      0.67         3\n",
      "         362       0.75      0.60      0.67         5\n",
      "         363       0.00      0.00      0.00         2\n",
      "         364       1.00      0.75      0.86         4\n",
      "         365       1.00      0.62      0.77         8\n",
      "         366       1.00      0.50      0.67         4\n",
      "         367       0.62      0.62      0.62         8\n",
      "         368       0.80      1.00      0.89         4\n",
      "         369       1.00      0.80      0.89         5\n",
      "         370       0.80      0.80      0.80         5\n",
      "         371       0.78      0.78      0.78         9\n",
      "         372       0.88      0.88      0.88         8\n",
      "         373       0.75      0.38      0.50         8\n",
      "         374       1.00      1.00      1.00         1\n",
      "         375       1.00      0.60      0.75         5\n",
      "         376       0.80      1.00      0.89         4\n",
      "         377       1.00      0.33      0.50         9\n",
      "         378       1.00      0.67      0.80         3\n",
      "         379       1.00      0.50      0.67         2\n",
      "         380       1.00      0.33      0.50         9\n",
      "         381       0.00      0.00      0.00         4\n",
      "         382       1.00      0.33      0.50         3\n",
      "         383       0.50      0.33      0.40         3\n",
      "         384       1.00      0.38      0.55         8\n",
      "         385       0.75      1.00      0.86         3\n",
      "         386       0.75      0.60      0.67         5\n",
      "         387       0.71      0.71      0.71         7\n",
      "         388       1.00      0.71      0.83         7\n",
      "         389       1.00      0.33      0.50         6\n",
      "         390       1.00      0.78      0.88         9\n",
      "         391       1.00      1.00      1.00         2\n",
      "         392       1.00      0.83      0.91         6\n",
      "         393       1.00      1.00      1.00         6\n",
      "         394       1.00      1.00      1.00         4\n",
      "         395       0.80      1.00      0.89         4\n",
      "         396       1.00      0.67      0.80         6\n",
      "         397       1.00      0.75      0.86         8\n",
      "         398       1.00      1.00      1.00         1\n",
      "         399       1.00      1.00      1.00         7\n",
      "         400       1.00      0.78      0.88         9\n",
      "         401       1.00      0.88      0.93         8\n",
      "         402       0.67      0.80      0.73         5\n",
      "         403       0.50      0.60      0.55         5\n",
      "         404       1.00      1.00      1.00         4\n",
      "         405       1.00      1.00      1.00         3\n",
      "         406       1.00      1.00      1.00         6\n",
      "         407       1.00      1.00      1.00         4\n",
      "         408       1.00      0.83      0.91         6\n",
      "         409       0.80      1.00      0.89         4\n",
      "         410       1.00      1.00      1.00         4\n",
      "         411       1.00      0.75      0.86         4\n",
      "         412       0.86      1.00      0.92         6\n",
      "         413       1.00      1.00      1.00         4\n",
      "         414       1.00      1.00      1.00         2\n",
      "         415       1.00      1.00      1.00         9\n",
      "         416       1.00      1.00      1.00         7\n",
      "         417       1.00      1.00      1.00         5\n",
      "         418       1.00      1.00      1.00         3\n",
      "         419       1.00      0.50      0.67         2\n",
      "         420       0.80      0.80      0.80         5\n",
      "         421       1.00      0.83      0.91         6\n",
      "         422       1.00      1.00      1.00         1\n",
      "         423       1.00      1.00      1.00         5\n",
      "         424       1.00      1.00      1.00         6\n",
      "         425       0.75      0.50      0.60         6\n",
      "         426       0.75      0.60      0.67         5\n",
      "         427       0.80      1.00      0.89         4\n",
      "         428       0.67      1.00      0.80         4\n",
      "         429       0.62      1.00      0.77         5\n",
      "         430       0.80      0.80      0.80         5\n",
      "         431       0.75      1.00      0.86         3\n",
      "         432       0.75      1.00      0.86         3\n",
      "         433       0.83      1.00      0.91         5\n",
      "         434       0.80      1.00      0.89         4\n",
      "         435       1.00      1.00      1.00         5\n",
      "         436       0.57      1.00      0.73         4\n",
      "         437       0.67      0.67      0.67         3\n",
      "         438       0.57      1.00      0.73         4\n",
      "         439       1.00      1.00      1.00         4\n",
      "         440       0.86      1.00      0.92         6\n",
      "         441       1.00      0.89      0.94         9\n",
      "         442       1.00      0.40      0.57         5\n",
      "         443       1.00      0.78      0.88         9\n",
      "         444       0.60      1.00      0.75         3\n",
      "         445       0.80      1.00      0.89         4\n",
      "         446       0.83      1.00      0.91         5\n",
      "         447       0.75      1.00      0.86         3\n",
      "         448       1.00      1.00      1.00         3\n",
      "         449       1.00      0.83      0.91         6\n",
      "         450       1.00      1.00      1.00         7\n",
      "         451       1.00      1.00      1.00         5\n",
      "         452       1.00      1.00      1.00         6\n",
      "         453       0.83      0.71      0.77         7\n",
      "         454       0.83      1.00      0.91         5\n",
      "         455       1.00      1.00      1.00         3\n",
      "         456       1.00      0.80      0.89         5\n",
      "         457       0.86      0.86      0.86         7\n",
      "         458       1.00      1.00      1.00         5\n",
      "         459       1.00      1.00      1.00         4\n",
      "         460       0.80      0.80      0.80         5\n",
      "         461       0.86      1.00      0.92         6\n",
      "         462       1.00      0.60      0.75         5\n",
      "         463       1.00      1.00      1.00         7\n",
      "         464       1.00      1.00      1.00         2\n",
      "         465       0.88      1.00      0.93         7\n",
      "         466       0.82      1.00      0.90         9\n",
      "         467       0.83      1.00      0.91         5\n",
      "         468       1.00      1.00      1.00         6\n",
      "         469       1.00      0.78      0.88         9\n",
      "         470       0.67      0.40      0.50         5\n",
      "         471       1.00      1.00      1.00         4\n",
      "         472       1.00      0.86      0.92         7\n",
      "         473       1.00      0.89      0.94         9\n",
      "         474       1.00      0.83      0.91         6\n",
      "         475       1.00      1.00      1.00         5\n",
      "         476       0.50      0.25      0.33         8\n",
      "         477       0.50      0.75      0.60         8\n",
      "         478       0.67      1.00      0.80         4\n",
      "         479       0.50      0.33      0.40         6\n",
      "         480       1.00      1.00      1.00         3\n",
      "         481       0.57      1.00      0.73         4\n",
      "         482       1.00      0.75      0.86         4\n",
      "         483       1.00      0.67      0.80         6\n",
      "         484       0.00      0.00      0.00         2\n",
      "         485       0.43      0.60      0.50         5\n",
      "         486       0.83      1.00      0.91         5\n",
      "         487       0.83      0.83      0.83         6\n",
      "         488       0.67      0.67      0.67         3\n",
      "         489       1.00      0.83      0.91         6\n",
      "         490       1.00      1.00      1.00         3\n",
      "         491       1.00      0.50      0.67         2\n",
      "         492       0.89      1.00      0.94         8\n",
      "         493       1.00      1.00      1.00         5\n",
      "         494       1.00      0.83      0.91         6\n",
      "         495       0.86      1.00      0.92         6\n",
      "         496       1.00      0.80      0.89         5\n",
      "         497       1.00      1.00      1.00         7\n",
      "         498       0.86      1.00      0.92         6\n",
      "         499       1.00      1.00      1.00         5\n",
      "         500       0.83      1.00      0.91         5\n",
      "         501       1.00      1.00      1.00         3\n",
      "         502       1.00      1.00      1.00         9\n",
      "         503       1.00      1.00      1.00         3\n",
      "         504       0.83      0.83      0.83         6\n",
      "         505       1.00      0.80      0.89         5\n",
      "         506       0.80      0.80      0.80         5\n",
      "         507       1.00      1.00      1.00         6\n",
      "         508       1.00      1.00      1.00         3\n",
      "         509       0.50      0.33      0.40         3\n",
      "         510       0.71      1.00      0.83         5\n",
      "         511       1.00      0.89      0.94         9\n",
      "         512       1.00      0.75      0.86         4\n",
      "         513       0.86      0.86      0.86         7\n",
      "         514       1.00      1.00      1.00         5\n",
      "         515       0.75      0.75      0.75         4\n",
      "         516       1.00      1.00      1.00         2\n",
      "         517       1.00      1.00      1.00         2\n",
      "         518       0.83      0.83      0.83         6\n",
      "         519       0.88      0.88      0.88         8\n",
      "         520       1.00      1.00      1.00         4\n",
      "         521       1.00      0.80      0.89         5\n",
      "         522       1.00      0.50      0.67         2\n",
      "         523       0.71      0.83      0.77         6\n",
      "         524       1.00      1.00      1.00         3\n",
      "         525       1.00      1.00      1.00         5\n",
      "         526       0.80      1.00      0.89         4\n",
      "         527       0.67      1.00      0.80         4\n",
      "         528       0.75      1.00      0.86         3\n",
      "         529       0.71      1.00      0.83         5\n",
      "         530       0.50      0.62      0.56         8\n",
      "         531       0.50      1.00      0.67         2\n",
      "         532       1.00      0.75      0.86         4\n",
      "         533       1.00      1.00      1.00         4\n",
      "         534       1.00      1.00      1.00         5\n",
      "         535       1.00      0.75      0.86         4\n",
      "         536       0.50      0.75      0.60         4\n",
      "         537       1.00      1.00      1.00         2\n",
      "         538       0.50      0.25      0.33         4\n",
      "         539       0.67      1.00      0.80         4\n",
      "         540       0.90      1.00      0.95         9\n",
      "         541       1.00      0.67      0.80         3\n",
      "         542       0.83      1.00      0.91         5\n",
      "         543       1.00      0.83      0.91         6\n",
      "         544       0.67      1.00      0.80         4\n",
      "         545       1.00      1.00      1.00         5\n",
      "         546       1.00      0.80      0.89         5\n",
      "         547       1.00      0.67      0.80         6\n",
      "         548       1.00      0.88      0.93         8\n",
      "         549       1.00      1.00      1.00         2\n",
      "         550       1.00      0.75      0.86         4\n",
      "         551       1.00      1.00      1.00         6\n",
      "         552       1.00      0.86      0.92         7\n",
      "         553       1.00      1.00      1.00         3\n",
      "         554       0.67      1.00      0.80         4\n",
      "         555       1.00      0.75      0.86         4\n",
      "         556       1.00      0.88      0.93         8\n",
      "         557       1.00      0.86      0.92         7\n",
      "         558       1.00      0.88      0.93         8\n",
      "         559       0.75      1.00      0.86         3\n",
      "         560       1.00      1.00      1.00         7\n",
      "         561       1.00      0.75      0.86         4\n",
      "         562       0.75      1.00      0.86         3\n",
      "         563       1.00      1.00      1.00         2\n",
      "         564       0.75      1.00      0.86         3\n",
      "         565       1.00      1.00      1.00         8\n",
      "         566       0.67      0.67      0.67         3\n",
      "         567       1.00      1.00      1.00         3\n",
      "         568       1.00      1.00      1.00         6\n",
      "         569       0.83      1.00      0.91         5\n",
      "         570       0.67      1.00      0.80         4\n",
      "         571       1.00      1.00      1.00         1\n",
      "         572       1.00      1.00      1.00         3\n",
      "         573       0.67      1.00      0.80         2\n",
      "         574       1.00      1.00      1.00         5\n",
      "         575       0.75      1.00      0.86         3\n",
      "         576       1.00      1.00      1.00         3\n",
      "         577       0.75      0.75      0.75         4\n",
      "         578       0.67      0.40      0.50         5\n",
      "         579       0.57      1.00      0.73         4\n",
      "         580       1.00      1.00      1.00         7\n",
      "         581       0.80      1.00      0.89         4\n",
      "         582       0.62      1.00      0.77         5\n",
      "         583       0.33      1.00      0.50         4\n",
      "         584       0.33      1.00      0.50         4\n",
      "         585       0.57      0.67      0.62         6\n",
      "         586       1.00      0.80      0.89         5\n",
      "         587       0.75      0.60      0.67         5\n",
      "         588       0.40      0.80      0.53         5\n",
      "         589       0.80      0.67      0.73         6\n",
      "         590       0.43      1.00      0.60         3\n",
      "         591       0.86      0.86      0.86         7\n",
      "         592       0.80      0.89      0.84         9\n",
      "         593       0.88      1.00      0.93         7\n",
      "         594       1.00      1.00      1.00         2\n",
      "         595       1.00      0.80      0.89         5\n",
      "         596       0.80      0.80      0.80         5\n",
      "         597       0.60      0.86      0.71         7\n",
      "         598       0.71      1.00      0.83         5\n",
      "         599       1.00      1.00      1.00         5\n",
      "         600       1.00      0.75      0.86         4\n",
      "         601       1.00      1.00      1.00         4\n",
      "         602       1.00      1.00      1.00         6\n",
      "         603       1.00      1.00      1.00         5\n",
      "         604       1.00      0.88      0.93         8\n",
      "         605       1.00      1.00      1.00         3\n",
      "         606       1.00      0.80      0.89         5\n",
      "         607       1.00      1.00      1.00         4\n",
      "         608       1.00      1.00      1.00         6\n",
      "         609       1.00      0.86      0.92         7\n",
      "         610       1.00      1.00      1.00         6\n",
      "         611       1.00      1.00      1.00         6\n",
      "         612       1.00      1.00      1.00         5\n",
      "         613       0.80      1.00      0.89         4\n",
      "         614       1.00      1.00      1.00         4\n",
      "         615       0.86      1.00      0.92         6\n",
      "         616       0.75      1.00      0.86         3\n",
      "         617       0.71      0.83      0.77         6\n",
      "         618       0.83      0.71      0.77         7\n",
      "         619       1.00      0.83      0.91         6\n",
      "         620       1.00      1.00      1.00         7\n",
      "         621       1.00      0.75      0.86         4\n",
      "         622       0.67      1.00      0.80         2\n",
      "         623       0.57      1.00      0.73         4\n",
      "         624       1.00      0.89      0.94         9\n",
      "         625       1.00      1.00      1.00         2\n",
      "         626       1.00      1.00      1.00         6\n",
      "         627       0.71      1.00      0.83         5\n",
      "         628       0.80      0.80      0.80         5\n",
      "         629       1.00      0.50      0.67         4\n",
      "         630       1.00      0.67      0.80         3\n",
      "         631       1.00      1.00      1.00         3\n",
      "         632       1.00      1.00      1.00         4\n",
      "         633       0.89      0.73      0.80        11\n",
      "         634       1.00      0.75      0.86         4\n",
      "         635       0.80      1.00      0.89         4\n",
      "         636       1.00      1.00      1.00         3\n",
      "         637       1.00      0.70      0.82        10\n",
      "         638       1.00      0.80      0.89         5\n",
      "         639       0.17      1.00      0.29         1\n",
      "         640       0.50      0.50      0.50         2\n",
      "         641       1.00      1.00      1.00         5\n",
      "         642       0.71      1.00      0.83         5\n",
      "         643       0.78      1.00      0.88         7\n",
      "         644       1.00      0.86      0.92         7\n",
      "         645       1.00      0.67      0.80         3\n",
      "         646       1.00      1.00      1.00         5\n",
      "         647       1.00      1.00      1.00         3\n",
      "         648       1.00      1.00      1.00         5\n",
      "         649       1.00      1.00      1.00         5\n",
      "         650       1.00      0.80      0.89         5\n",
      "         651       1.00      1.00      1.00         7\n",
      "         652       1.00      1.00      1.00         5\n",
      "         653       1.00      1.00      1.00         6\n",
      "         654       1.00      1.00      1.00         8\n",
      "\n",
      "    accuracy                           0.87      3257\n",
      "   macro avg       0.88      0.88      0.86      3257\n",
      "weighted avg       0.90      0.87      0.87      3257\n",
      "\n"
     ]
    },
    {
     "name": "stderr",
     "output_type": "stream",
     "text": [
      "C:\\Users\\ranuj\\AppData\\Local\\Programs\\Python\\Python312\\Lib\\site-packages\\sklearn\\metrics\\_classification.py:1531: UndefinedMetricWarning: Precision is ill-defined and being set to 0.0 in labels with no predicted samples. Use `zero_division` parameter to control this behavior.\n",
      "  _warn_prf(average, modifier, f\"{metric.capitalize()} is\", len(result))\n"
     ]
    }
   ],
   "source": [
    "report = classification_report(y_test, y_pred_classes)\n",
    "print(report)"
   ]
  },
  {
   "cell_type": "code",
   "execution_count": null,
   "id": "62fdd3d3-8004-41c7-9de6-5c08b3704844",
   "metadata": {},
   "outputs": [],
   "source": []
  }
 ],
 "metadata": {
  "kernelspec": {
   "display_name": "Python 3 (ipykernel)",
   "language": "python",
   "name": "python3"
  },
  "language_info": {
   "codemirror_mode": {
    "name": "ipython",
    "version": 3
   },
   "file_extension": ".py",
   "mimetype": "text/x-python",
   "name": "python",
   "nbconvert_exporter": "python",
   "pygments_lexer": "ipython3",
   "version": "3.12.4"
  }
 },
 "nbformat": 4,
 "nbformat_minor": 5
}
